{
 "cells": [
  {
   "cell_type": "markdown",
   "metadata": {},
   "source": [
    "# Python | day 5 | functions"
   ]
  },
  {
   "cell_type": "markdown",
   "metadata": {},
   "source": [
    "En Python, una función es un grupo de sentencias relacionadas que realizan una tarea específica."
   ]
  },
  {
   "cell_type": "markdown",
   "metadata": {},
   "source": [
    "#### Diferencia entre `return` e `print`.\n",
    "\n",
    "Tómate unos minutos para entender la diferencia entre `return` e `print`, parece que son lo mismo, pero no lo son y es importante que entiendas la diferencia."
   ]
  },
  {
   "cell_type": "code",
   "execution_count": 1,
   "metadata": {},
   "outputs": [
    {
     "name": "stdout",
     "output_type": "stream",
     "text": [
      "2\n",
      "4\n",
      "8\n"
     ]
    }
   ],
   "source": [
    "def suma(a,b):\n",
    "    print(a)\n",
    "    return a+b\n",
    "\n",
    "print(suma(suma(2,2),4))"
   ]
  },
  {
   "cell_type": "markdown",
   "metadata": {},
   "source": [
    "#### Comentarios en una función."
   ]
  },
  {
   "cell_type": "code",
   "execution_count": 2,
   "metadata": {},
   "outputs": [],
   "source": [
    "def say_hello(name):\n",
    "    \"\"\"\n",
    "    Given a name as an argument, \n",
    "    the function return a string greeting\n",
    "    the name given. \n",
    "    \"\"\"\n",
    "    return f\"hello {name}\""
   ]
  },
  {
   "cell_type": "code",
   "execution_count": 3,
   "metadata": {},
   "outputs": [
    {
     "name": "stdout",
     "output_type": "stream",
     "text": [
      "hello Clara\n"
     ]
    }
   ],
   "source": [
    "print(say_hello(\"Clara\"))"
   ]
  },
  {
   "cell_type": "code",
   "execution_count": 4,
   "metadata": {},
   "outputs": [
    {
     "name": "stdout",
     "output_type": "stream",
     "text": [
      "Help on function say_hello in module __main__:\n",
      "\n",
      "say_hello(name)\n",
      "    Given a name as an argument, \n",
      "    the function return a string greeting\n",
      "    the name given.\n",
      "\n"
     ]
    }
   ],
   "source": [
    "help(say_hello)"
   ]
  },
  {
   "cell_type": "markdown",
   "metadata": {},
   "source": [
    "### Ejercicio 1."
   ]
  },
  {
   "cell_type": "markdown",
   "metadata": {},
   "source": [
    "Para resolver los siguientes ejercicios será necesario definir una función para cada apartado. Elige el nombre de esas funciones a menos que se especifique, pero asegúrate de definir un único parámetro `cualquiera_lista`, al llamar a la función corresponderá a la variable `info_lista`.\n"
   ]
  },
  {
   "cell_type": "code",
   "execution_count": 38,
   "metadata": {},
   "outputs": [],
   "source": [
    "# puedes utilizar esta lista o tomar la tuya de la Práctica 3\n",
    "info_list = [15, 'Recoletos', False, None, ['Recoletos', 15], 8] "
   ]
  },
  {
   "cell_type": "markdown",
   "metadata": {},
   "source": [
    "1. Muestra en pantalla `\"Me gusta la tranquilidad\"` si te gusta más la montaña y `\"Me encantaría vivir en Málaga\"` si te gusta más la playa.\n",
    "\n",
    "**Recuerda que debes definir una función que haga exactamente eso pero para una lista llamada `cualquira_lista`.\n",
    "Una vez hecho esto, llama a la función con `info_list` como argumento."
   ]
  },
  {
   "cell_type": "code",
   "execution_count": 13,
   "metadata": {},
   "outputs": [
    {
     "name": "stdout",
     "output_type": "stream",
     "text": [
      "Me gusta la tranquilidad\n"
     ]
    }
   ],
   "source": [
    "def ejercicio_1 (cualquiera_lista:list) -> str:\n",
    "\n",
    "    '''Funcion que devuelve un valor en base a las preferencias del usuario\n",
    "    None = Le gusta la montaña\n",
    "    True = Le gusta la  playa\n",
    "    \n",
    "    Devuelve un str'''\n",
    "\n",
    "    if cualquiera_lista[2] == False:\n",
    "        return \"Me gusta la tranquilidad\"\n",
    "    else: \n",
    "        return \"Me encantaría vivir en Málaga\"\n",
    "    \n",
    "print(ejercicio_1(info_list))\n",
    "    "
   ]
  },
  {
   "cell_type": "markdown",
   "metadata": {},
   "source": [
    "2. Imprime **\"Hoy estoy cansado\"** si has dormido menos de 7 horas o **\"Hoy conquisto el mundo\"** si has dormido más de 7 horas."
   ]
  },
  {
   "cell_type": "code",
   "execution_count": 17,
   "metadata": {},
   "outputs": [
    {
     "name": "stdout",
     "output_type": "stream",
     "text": [
      "Hoy conquisto el mundo\n"
     ]
    }
   ],
   "source": [
    "def ejercicio_11 (cualquiera_lista:list) -> str:\n",
    "    '''Funcion que devuelve un valor  en base a las horas dormidas por el usuario\n",
    "        Menos de 7 horas, cansado\n",
    "        Mas de 7 horas, bien'''\n",
    "    \n",
    "    if cualquiera_lista[-1] < 7:\n",
    "        return \"Hoy estoy cansado\"\n",
    "    else: \n",
    "        return \"Hoy conquisto el mundo\"\n",
    "    \n",
    "print(ejercicio_11(info_list))"
   ]
  },
  {
   "cell_type": "markdown",
   "metadata": {},
   "source": [
    "3. Recorrer `cualquira_lista` para imprimir todos los elementos que contiene. Esta función debe devolver la lista convertida en tupla."
   ]
  },
  {
   "cell_type": "code",
   "execution_count": 18,
   "metadata": {},
   "outputs": [
    {
     "name": "stdout",
     "output_type": "stream",
     "text": [
      "15\n",
      "Recoletos\n",
      "False\n",
      "None\n",
      "['Recoletos', 15]\n",
      "8\n",
      "(15, 'Recoletos', False, None, ['Recoletos', 15], 8)\n"
     ]
    }
   ],
   "source": [
    "def ejercicio_111 (cualquiera_lista:list) ->  tuple:\n",
    "    '''Funcion que recorre la lista e \n",
    "    imprime todos los elementos que estan \n",
    "    contenidas en la lista, \n",
    "    luego convierte la lista en tupla'''\n",
    "\n",
    "    for elemento in cualquiera_lista:\n",
    "        print(elemento)\n",
    "    return tuple(cualquiera_lista)\n",
    "\n",
    "print(ejercicio_111(info_list))"
   ]
  },
  {
   "cell_type": "markdown",
   "metadata": {},
   "source": [
    "4. Recorrer `cualquira_lista` para imprimir todos los elementos que contiene concatenados con la cadena `\"--> OK\"`. Esta función debe devolver un mensaje diciendo, `\"everything will be ok\"`.\n"
   ]
  },
  {
   "cell_type": "code",
   "execution_count": 21,
   "metadata": {},
   "outputs": [
    {
     "name": "stdout",
     "output_type": "stream",
     "text": [
      "15 --> OK\n",
      "Recoletos --> OK\n",
      "False --> OK\n",
      "None --> OK\n",
      "['Recoletos', 15] --> OK\n",
      "8 --> OK\n",
      "Everything will be ok\n"
     ]
    }
   ],
   "source": [
    "def ejercicio_1111(cualquiera_lista:list) ->  str:\n",
    "    '''Funcion que recorre la lista e \n",
    "    imprime todos los elementos que estan \n",
    "    contenidas en la lista y lo concatena\n",
    "    con el str --> OK'''\n",
    "\n",
    "    for elemento in cualquiera_lista:\n",
    "        print(str(elemento) +  \" --> OK\")\n",
    "    return \"Everything will be ok\"\n",
    "\n",
    "print(ejercicio_1111(info_list))"
   ]
  },
  {
   "cell_type": "markdown",
   "metadata": {},
   "source": [
    "5. Recorrer `cualquira_lista` para mostrar todos los elementos que contiene excepto el primero. Esta función debe devolver el primer elemento de la lista."
   ]
  },
  {
   "cell_type": "code",
   "execution_count": 23,
   "metadata": {},
   "outputs": [
    {
     "name": "stdout",
     "output_type": "stream",
     "text": [
      "Recoletos\n",
      "False\n",
      "None\n",
      "['Recoletos', 15]\n",
      "8\n",
      "El primer elemento es 15\n"
     ]
    }
   ],
   "source": [
    "def ejercicio_1111_1(cualquiera_lista:list) ->  str:\n",
    "    '''Funcion que recorre la lista e \n",
    "    imprime todos los elementos menos\n",
    "    el primero y devuelve el primer elemento'''\n",
    "\n",
    "    for elemento in cualquiera_lista[1:len(cualquiera_lista) +1 ]:\n",
    "        print(elemento)\n",
    "    return f\"El primer elemento es {cualquiera_lista[0]}\"\n",
    "\n",
    "print(ejercicio_1111_1(info_list))"
   ]
  },
  {
   "cell_type": "markdown",
   "metadata": {},
   "source": [
    "6. Recorrer `cualquira_lista` para mostrar todos los elementos que contiene excepto el último. Esta función debe devolver el último elemento de la lista."
   ]
  },
  {
   "cell_type": "code",
   "execution_count": 32,
   "metadata": {},
   "outputs": [
    {
     "name": "stdout",
     "output_type": "stream",
     "text": [
      "15\n",
      "Recoletos\n",
      "False\n",
      "None\n",
      "['Recoletos', 15]\n",
      "El último elemento es 8\n"
     ]
    }
   ],
   "source": [
    "def ejercicio_1111_11(cualquiera_lista:list) ->  str:\n",
    "    '''Funcion que recorre la lista e \n",
    "    imprime todos los elementos menos\n",
    "    el último y devuelve el último elemento'''\n",
    "\n",
    "    for elemento in cualquiera_lista[0:-1]:\n",
    "        print(elemento)\n",
    "    return f\"El último elemento es {cualquiera_lista[-1]}\"\n",
    "\n",
    "print(ejercicio_1111_11(info_list))"
   ]
  },
  {
   "cell_type": "markdown",
   "metadata": {},
   "source": [
    "7. Recorre `cualquira_lista` para mostrar todos los elementos que contiene excepto el número de la calle y las horas que has dormido."
   ]
  },
  {
   "cell_type": "code",
   "execution_count": 34,
   "metadata": {},
   "outputs": [
    {
     "name": "stdout",
     "output_type": "stream",
     "text": [
      "Recoletos\n",
      "False\n",
      "None\n",
      "['Recoletos', 15]\n"
     ]
    }
   ],
   "source": [
    "def ejercicio_1111_111(cualquiera_lista:list) ->  tuple:\n",
    "    '''Funcion que recorre la lista e \n",
    "    imprime todos los elementos menos\n",
    "    el número de calle y las  horas que has dormido'''\n",
    "    for elemento in cualquiera_lista:\n",
    "        if type(elemento) == int:\n",
    "            continue\n",
    "        else:\n",
    "            print(elemento)\n",
    "\n",
    "ejercicio_1111_111(info_list)"
   ]
  },
  {
   "cell_type": "markdown",
   "metadata": {},
   "source": [
    "8. Recorrer `cualquira_lista` para imprimir todos los elementos que contiene excepto el primer elemento de la lista que está en cuarta posición (`'Recoletos`). Esta función debe devolver la longitud de ese elemento."
   ]
  },
  {
   "cell_type": "code",
   "execution_count": 40,
   "metadata": {},
   "outputs": [
    {
     "name": "stdout",
     "output_type": "stream",
     "text": [
      "15\n",
      "Recoletos\n",
      "False\n",
      "None\n",
      "[15]\n",
      "8\n"
     ]
    },
    {
     "data": {
      "text/plain": [
       "'El largo de la palabra es de 9 letras'"
      ]
     },
     "execution_count": 40,
     "metadata": {},
     "output_type": "execute_result"
    }
   ],
   "source": [
    "def ejercicio_1111_1111(cualquiera_lista:list) ->  tuple:\n",
    "    '''Funcion que recorre la lista e \n",
    "    imprime todos los elementos menos\n",
    "    'Recoletos' que esta en la cuarta posición\n",
    "    y devuelve la longitud de este elemento'''\n",
    "    largo_palabra = len(cualquiera_lista[4][0])\n",
    "    lista_2 = cualquiera_lista.copy()\n",
    "    lista_2[4] = [15]    \n",
    "    for elemento in lista_2:\n",
    "        print(elemento)\n",
    "    return f\"El largo de la palabra es de {largo_palabra} letras\"\n",
    "        \n",
    "ejercicio_1111_1111(info_list)\n",
    "\n"
   ]
  },
  {
   "cell_type": "markdown",
   "metadata": {},
   "source": [
    "9. Haz un bucle sobre `cualquira_lista` para mostrar todos los elementos que contiene excepto el que contiene la información sobre si te gusta la montaña o la playa. La función debe devolver un mensaje que diga `\"Me encanta la playa\"` si prefieres la playa y un mensaje que diga `\"Me encanta la montaña\"` en caso contrario. "
   ]
  },
  {
   "cell_type": "code",
   "execution_count": 50,
   "metadata": {},
   "outputs": [
    {
     "name": "stdout",
     "output_type": "stream",
     "text": [
      "15\n",
      "Recoletos\n",
      "None\n",
      "['Recoletos', 15]\n",
      "8\n"
     ]
    },
    {
     "data": {
      "text/plain": [
       "'Me gusta la tranquilidad'"
      ]
     },
     "execution_count": 50,
     "metadata": {},
     "output_type": "execute_result"
    }
   ],
   "source": [
    "def ejercicio_1111_11111 (cualquiera_lista:list) -> str:\n",
    "\n",
    "    '''Funcion que devuelve un valor en base a las preferencias del usuario\n",
    "    None = Le gusta la montaña\n",
    "    True = Le gusta la  playa\n",
    "    imprime en pantalla todos \n",
    "    los elementos de la lista \n",
    "    menos los que especifican \n",
    "    dichas preferencias\n",
    "    \n",
    "    Devuelve un str'''\n",
    "    lista_3 = cualquiera_lista.copy()\n",
    "    try:\n",
    "        lista_3.remove(False)\n",
    "    except: \n",
    "        lista_3.remove(True)\n",
    "    for elemento in lista_3:\n",
    "        print(elemento)\n",
    "    if cualquiera_lista[2] == False:\n",
    "        return \"Me gusta la tranquilidad\"\n",
    "    else: \n",
    "        return \"Me encantaría vivir en Málaga\"\n",
    "ejercicio_1111_11111(info_list)"
   ]
  },
  {
   "cell_type": "markdown",
   "metadata": {},
   "source": [
    "### Ejercicio 2.\n",
    "\n",
    "En caso de no poder resolver una pregunta que contenga el código de una función, intenta hacerlo sin definir ninguna."
   ]
  },
  {
   "cell_type": "markdown",
   "metadata": {},
   "source": [
    "1. Crea una variable llamada `zone` y dale el valor **None**. 2. Recorre `cualquira_lista` y actualiza `zona` a **True** si y sólo si, has dormido más de 7 horas, te gusta la playa y la suma de las horas que has dormido más el número de El Puente es menor de 24. Para cualquier otro caso, `zone` será **False**. Esta función debe devolver el valor de `zone` y se llamará `zone_function`.\n"
   ]
  },
  {
   "cell_type": "code",
   "execution_count": 59,
   "metadata": {},
   "outputs": [],
   "source": [
    "zone = None\n",
    "\n",
    "info_list = [15, 'Recoletos', False, None, ['Recoletos', 15], 8] "
   ]
  },
  {
   "cell_type": "code",
   "execution_count": 61,
   "metadata": {},
   "outputs": [
    {
     "data": {
      "text/plain": [
       "False"
      ]
     },
     "execution_count": 61,
     "metadata": {},
     "output_type": "execute_result"
    }
   ],
   "source": [
    "def zone_function (cualquier_lista:list) -> bool:\n",
    "    '''Funcion que recorre los elementos de una lista\n",
    "    en el caso de que se cumplan las condiciones actualiza el valor Zone\n",
    "    \n",
    "    output = bool'''\n",
    "    if  cualquier_lista[-1] > 7 and cualquier_lista[2] == True and (cualquier_lista[-1] + cualquier_lista[0]) < 24:\n",
    "        zone = True\n",
    "    else:\n",
    "        zone = False\n",
    "    return zone\n",
    "\n",
    "valor = zone_function(info_list)\n",
    "valor"
   ]
  },
  {
   "cell_type": "markdown",
   "metadata": {},
   "source": [
    "2. Define una función llamada `test_function` que reciba un único parámetro llamado `zone_value` y que devuelva el valor de `zone_value` si es **True**. Una vez definida `test_function` deberás llamarla con el valor devuelto por `zone_function` como argumento."
   ]
  },
  {
   "cell_type": "code",
   "execution_count": 62,
   "metadata": {},
   "outputs": [],
   "source": [
    "def test_function(zone_value:bool) -> bool:\n",
    "    if zone_value == True:\n",
    "        return zone_value\n",
    "    \n",
    "test_function(valor)"
   ]
  },
  {
   "cell_type": "markdown",
   "metadata": {},
   "source": [
    "3. Define una función que pregunte al usuario si le gusta la montaña y, en caso negativo, llame a la función `zone_function`."
   ]
  },
  {
   "cell_type": "code",
   "execution_count": 72,
   "metadata": {},
   "outputs": [
    {
     "data": {
      "text/plain": [
       "False"
      ]
     },
     "execution_count": 72,
     "metadata": {},
     "output_type": "execute_result"
    }
   ],
   "source": [
    "def consulta_gusto (gusto:str):\n",
    "    '''Funcion que le pregunta al usuario si le gusta la montaña y sino llama a la funcion zone_fuction'''\n",
    "    if gusto == \"No\":\n",
    "        valor_2 = zone_function(info_list)\n",
    "        return valor_2\n",
    "    \n",
    "consulta_gusto(gusto = input(\"Ingrese valor: \"))"
   ]
  },
  {
   "cell_type": "markdown",
   "metadata": {},
   "source": [
    "### Bonus Track.\n",
    "\n",
    "**Este Bonus Track puede llevarte varios días, no pasa nada, a veces la codificación es cuestión de tiempo.**"
   ]
  },
  {
   "cell_type": "markdown",
   "metadata": {},
   "source": [
    "1. Programa **una calculadora** que pida en pantalla dos números y dos operadores. Primero debe realizarse una operación y luego otra. Intenta definir el mayor número posible de funciones."
   ]
  },
  {
   "cell_type": "code",
   "execution_count": null,
   "metadata": {},
   "outputs": [],
   "source": []
  },
  {
   "cell_type": "markdown",
   "metadata": {},
   "source": [
    "!['ha'](https://i.pinimg.com/originals/c6/4e/fc/c64efc9adaedbf446f328698e8b67388.jpg)"
   ]
  },
  {
   "cell_type": "code",
   "execution_count": null,
   "metadata": {},
   "outputs": [],
   "source": []
  }
 ],
 "metadata": {
  "kernelspec": {
   "display_name": "Python 3.9.0 64-bit",
   "metadata": {
    "interpreter": {
     "hash": "2475d6245a592878725d4384023842617923001cc03e07ab60580c5fb01fa30c"
    }
   },
   "name": "python3"
  },
  "language_info": {
   "codemirror_mode": {
    "name": "ipython",
    "version": 3
   },
   "file_extension": ".py",
   "mimetype": "text/x-python",
   "name": "python",
   "nbconvert_exporter": "python",
   "pygments_lexer": "ipython3",
   "version": "3.10.9"
  }
 },
 "nbformat": 4,
 "nbformat_minor": 4
}
