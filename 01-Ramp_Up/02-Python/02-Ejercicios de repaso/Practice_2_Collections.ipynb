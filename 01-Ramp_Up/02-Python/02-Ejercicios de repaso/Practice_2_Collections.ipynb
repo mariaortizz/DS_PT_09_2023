{
 "cells": [
  {
   "cell_type": "markdown",
   "metadata": {},
   "source": [
    "# Python | day 2 | collections"
   ]
  },
  {
   "cell_type": "markdown",
   "metadata": {},
   "source": [
    "Lists, tuples & sets"
   ]
  },
  {
   "cell_type": "markdown",
   "metadata": {},
   "source": [
    "### Ejercicio 1."
   ]
  },
  {
   "cell_type": "markdown",
   "metadata": {},
   "source": [
    "1. Crea\n",
    "    - una variable de tipo lista llamada **lista_alumnos** que contenga el nombre de tus compañeros de clase.\n",
    "    - 4 listas diferentes que contengan los nombres de los compañeros sentados en cada mesa de la clase más los que siguen a la clase en remoto.  \n",
    "    \n",
    "Si ya no estás en clase y no recuerdas cómo estaba distribuida la clase, utiliza los nombres de tus compañeros y haz 4 listas diferentes con ellos.\n",
    "\n",
    "Imprime las dos listas creadas."
   ]
  },
  {
   "cell_type": "code",
   "execution_count": 1,
   "metadata": {},
   "outputs": [],
   "source": [
    "lista_alumnos = [\"Luis\", \"Agustin\", \"Alvaro\", \"Sol\", \"Jaime\", \"Camilo\", \"Nicolas\", \"Hector\", \"Gonzalo\", \"Ronald\"]\n",
    "mesa_1 = [\"Sol\", \"Hector\", \"Jaime\"]\n",
    "mesa_2 = [\"Camilo\", \"Nicolas\"]\n",
    "mesa_3 = [\"Agustin\", \"Alvaro\"]\n",
    "mesa_4 = [\"Gonzalo\", \"Ronald\"] "
   ]
  },
  {
   "cell_type": "markdown",
   "metadata": {},
   "source": [
    "### Ejercicio 2"
   ]
  },
  {
   "cell_type": "markdown",
   "metadata": {},
   "source": [
    "1. Crea una lista vacía, llámala **lista_vacía**."
   ]
  },
  {
   "cell_type": "code",
   "execution_count": 2,
   "metadata": {},
   "outputs": [],
   "source": [
    "lista_vacia = []"
   ]
  },
  {
   "cell_type": "markdown",
   "metadata": {},
   "source": [
    "2. Crea una lista con 5 elementos, llámala **mi_lista**."
   ]
  },
  {
   "cell_type": "code",
   "execution_count": 3,
   "metadata": {},
   "outputs": [],
   "source": [
    "mi_lista = [1,2,3,4,5]"
   ]
  },
  {
   "cell_type": "markdown",
   "metadata": {},
   "source": [
    "3. Hallar la longitud de **mi_lista**\n",
    "\n"
   ]
  },
  {
   "cell_type": "code",
   "execution_count": 4,
   "metadata": {},
   "outputs": [
    {
     "data": {
      "text/plain": [
       "5"
      ]
     },
     "execution_count": 4,
     "metadata": {},
     "output_type": "execute_result"
    }
   ],
   "source": [
    "len(mi_lista)"
   ]
  },
  {
   "cell_type": "markdown",
   "metadata": {},
   "source": [
    "4. Obtener el primer elemento, el elemento central y el último elemento de **mi_lista**.\n",
    "\n"
   ]
  },
  {
   "cell_type": "code",
   "execution_count": 7,
   "metadata": {},
   "outputs": [
    {
     "name": "stdout",
     "output_type": "stream",
     "text": [
      "1\n",
      "5\n",
      "3\n"
     ]
    }
   ],
   "source": [
    "print(mi_lista[0])\n",
    "print(mi_lista[-1])\n",
    "print(mi_lista[len(mi_lista)//2])"
   ]
  },
  {
   "cell_type": "markdown",
   "metadata": {},
   "source": [
    "5. Declarar\n",
    "    - una variable **nombre** y asignarle un valor\n",
    "    - una variable **edad** y asignarle un valor\n",
    "    - una variable **altura** y asignarle un valor\n",
    "    - una variable **país** y asignarle un valor\n",
    "    - una variable **python_version** y asignarle un valor\n"
   ]
  },
  {
   "cell_type": "code",
   "execution_count": 8,
   "metadata": {},
   "outputs": [],
   "source": [
    "nombre = \"Maria\"\n",
    "edad = 27\n",
    "altura = 168\n",
    "pais = \"Argentina\"\n",
    "python_version = 2.333"
   ]
  },
  {
   "cell_type": "markdown",
   "metadata": {},
   "source": [
    "6. Crea una lista llamada **tipos_de_datos_mezclados** con tu nombre, edad, altura, país y versión_de_ python.\n",
    "\n"
   ]
  },
  {
   "cell_type": "code",
   "execution_count": 9,
   "metadata": {},
   "outputs": [
    {
     "data": {
      "text/plain": [
       "['Maria', 27, 168, 'Argentina', 2.333]"
      ]
     },
     "execution_count": 9,
     "metadata": {},
     "output_type": "execute_result"
    }
   ],
   "source": [
    "tipos_de_datos_mezclados = [nombre, edad, altura, pais, python_version]\n",
    "tipos_de_datos_mezclados"
   ]
  },
  {
   "cell_type": "markdown",
   "metadata": {},
   "source": [
    "7. Declara una variable de lista llamada **it_companies** y asígnale los valores iniciales Facebook, Google, Microsoft, Apple, IBM, Oracle y Amazon.\n"
   ]
  },
  {
   "cell_type": "code",
   "execution_count": 20,
   "metadata": {},
   "outputs": [
    {
     "data": {
      "text/plain": [
       "['Facebook', 'Google', 'Microsoft', 'Apple', 'IBM', 'Oracle', 'Amazon']"
      ]
     },
     "execution_count": 20,
     "metadata": {},
     "output_type": "execute_result"
    }
   ],
   "source": [
    "it_companies = ['Facebook', 'Google', 'Microsoft', 'Apple', 'IBM', 'Oracle', 'Amazon']\n",
    "it_companies"
   ]
  },
  {
   "cell_type": "markdown",
   "metadata": {},
   "source": [
    "8. Imprime **it_companies** usando print()\n",
    "\n"
   ]
  },
  {
   "cell_type": "code",
   "execution_count": 21,
   "metadata": {},
   "outputs": [
    {
     "name": "stdout",
     "output_type": "stream",
     "text": [
      "['Facebook', 'Google', 'Microsoft', 'Apple', 'IBM', 'Oracle', 'Amazon']\n"
     ]
    }
   ],
   "source": [
    "print(it_companies)"
   ]
  },
  {
   "cell_type": "markdown",
   "metadata": {},
   "source": [
    "9. Imprimir el número de empresas de la lista"
   ]
  },
  {
   "cell_type": "code",
   "execution_count": 22,
   "metadata": {},
   "outputs": [
    {
     "data": {
      "text/plain": [
       "7"
      ]
     },
     "execution_count": 22,
     "metadata": {},
     "output_type": "execute_result"
    }
   ],
   "source": [
    "len(it_companies)"
   ]
  },
  {
   "cell_type": "markdown",
   "metadata": {},
   "source": [
    "11. imprimir *Google"
   ]
  },
  {
   "cell_type": "code",
   "execution_count": 23,
   "metadata": {},
   "outputs": [
    {
     "data": {
      "text/plain": [
       "'Google'"
      ]
     },
     "execution_count": 23,
     "metadata": {},
     "output_type": "execute_result"
    }
   ],
   "source": [
    "it_companies[1]"
   ]
  },
  {
   "cell_type": "markdown",
   "metadata": {},
   "source": [
    "10. Imprima el nombre, el segundo nombre y el apellido de la empresa"
   ]
  },
  {
   "cell_type": "code",
   "execution_count": 24,
   "metadata": {},
   "outputs": [
    {
     "name": "stdout",
     "output_type": "stream",
     "text": [
      "Facebook\n",
      "Apple\n",
      "Amazon\n"
     ]
    }
   ],
   "source": [
    "print(it_companies[0])\n",
    "print(it_companies[len(it_companies)//2])\n",
    "print(it_companies[-1])"
   ]
  },
  {
   "cell_type": "markdown",
   "metadata": {},
   "source": [
    "11. Asignar un nuevo valor al último elemento de la lista"
   ]
  },
  {
   "cell_type": "code",
   "execution_count": 25,
   "metadata": {},
   "outputs": [
    {
     "data": {
      "text/plain": [
       "['Facebook', 'Google', 'Microsoft', 'Apple', 'IBM', 'Oracle', 'Amazon_2']"
      ]
     },
     "execution_count": 25,
     "metadata": {},
     "output_type": "execute_result"
    }
   ],
   "source": [
    "it_companies[-1] = 'Amazon_2'\n",
    "it_companies"
   ]
  },
  {
   "cell_type": "markdown",
   "metadata": {},
   "source": [
    "12. Imprimir la lista después de modificar una de las empresas"
   ]
  },
  {
   "cell_type": "code",
   "execution_count": 26,
   "metadata": {},
   "outputs": [
    {
     "data": {
      "text/plain": [
       "['Facebook', 'Google', 'Microsoft', 'Apple', 'IBM', 'Oracle', 'Amazon_2']"
      ]
     },
     "execution_count": 26,
     "metadata": {},
     "output_type": "execute_result"
    }
   ],
   "source": [
    "it_companies"
   ]
  },
  {
   "cell_type": "markdown",
   "metadata": {},
   "source": [
    "## Bonus track."
   ]
  },
  {
   "cell_type": "markdown",
   "metadata": {},
   "source": [
    "13. Añadir una empresa de TI a **it_companies**.\n",
    "\n"
   ]
  },
  {
   "cell_type": "code",
   "execution_count": 27,
   "metadata": {},
   "outputs": [
    {
     "data": {
      "text/plain": [
       "['Facebook', 'Google', 'Microsoft', 'Apple', 'IBM', 'Oracle', 'Amazon_2', 'TI']"
      ]
     },
     "execution_count": 27,
     "metadata": {},
     "output_type": "execute_result"
    }
   ],
   "source": [
    "it_companies.append('TI')\n",
    "it_companies"
   ]
  },
  {
   "cell_type": "markdown",
   "metadata": {},
   "source": [
    "14. Compruebe si *Apple* existe en la lista **it_companies**."
   ]
  },
  {
   "cell_type": "code",
   "execution_count": 28,
   "metadata": {},
   "outputs": [
    {
     "data": {
      "text/plain": [
       "3"
      ]
     },
     "execution_count": 28,
     "metadata": {},
     "output_type": "execute_result"
    }
   ],
   "source": [
    "it_companies.index(\"Apple\")"
   ]
  },
  {
   "cell_type": "markdown",
   "metadata": {},
   "source": [
    "15. Ordena la lista utilizando el método `sort()`.\n",
    "\n"
   ]
  },
  {
   "cell_type": "code",
   "execution_count": 30,
   "metadata": {},
   "outputs": [
    {
     "data": {
      "text/plain": [
       "['Amazon_2', 'Apple', 'Facebook', 'Google', 'IBM', 'Microsoft', 'Oracle', 'TI']"
      ]
     },
     "execution_count": 30,
     "metadata": {},
     "output_type": "execute_result"
    }
   ],
   "source": [
    "it_companies.sort()\n",
    "it_companies"
   ]
  },
  {
   "cell_type": "markdown",
   "metadata": {},
   "source": [
    "16. Invierte la lista en orden descendente utilizando el método `reverse()`.\n",
    "\n"
   ]
  },
  {
   "cell_type": "code",
   "execution_count": 31,
   "metadata": {},
   "outputs": [
    {
     "data": {
      "text/plain": [
       "['TI', 'Oracle', 'Microsoft', 'IBM', 'Google', 'Facebook', 'Apple', 'Amazon_2']"
      ]
     },
     "execution_count": 31,
     "metadata": {},
     "output_type": "execute_result"
    }
   ],
   "source": [
    "it_companies.reverse()\n",
    "it_companies"
   ]
  },
  {
   "cell_type": "markdown",
   "metadata": {},
   "source": [
    "17. Elimine las 3 primeras empresas de la lista\n",
    "\n"
   ]
  },
  {
   "cell_type": "code",
   "execution_count": 33,
   "metadata": {},
   "outputs": [
    {
     "data": {
      "text/plain": [
       "['IBM', 'Google', 'Facebook', 'Apple', 'Amazon_2']"
      ]
     },
     "execution_count": 33,
     "metadata": {},
     "output_type": "execute_result"
    }
   ],
   "source": [
    "it_companies[-5:]"
   ]
  },
  {
   "cell_type": "markdown",
   "metadata": {},
   "source": [
    "18. Elimine la última empresa informática de la lista\n"
   ]
  },
  {
   "cell_type": "code",
   "execution_count": 34,
   "metadata": {},
   "outputs": [
    {
     "data": {
      "text/plain": [
       "['TI', 'Oracle', 'Microsoft', 'IBM', 'Google', 'Facebook', 'Apple']"
      ]
     },
     "execution_count": 34,
     "metadata": {},
     "output_type": "execute_result"
    }
   ],
   "source": [
    "it_companies.pop()\n",
    "it_companies"
   ]
  },
  {
   "cell_type": "markdown",
   "metadata": {},
   "source": [
    "19. Eliminar todas las empresas de TI de la lista"
   ]
  },
  {
   "cell_type": "code",
   "execution_count": 35,
   "metadata": {},
   "outputs": [
    {
     "data": {
      "text/plain": [
       "[]"
      ]
     },
     "execution_count": 35,
     "metadata": {},
     "output_type": "execute_result"
    }
   ],
   "source": [
    "it_companies.clear()\n",
    "it_companies"
   ]
  },
  {
   "cell_type": "markdown",
   "metadata": {},
   "source": [
    "20. Une las listas siguientes y llama a la lista **fin**:\n",
    "\n",
    "```python\n",
    "front_end = [['HTML', 'CSS'], 'JS', 'React', 'Redux']\n",
    "back_end = ['Node','Express', 'MongoDB']\n",
    "```"
   ]
  },
  {
   "cell_type": "code",
   "execution_count": 38,
   "metadata": {},
   "outputs": [
    {
     "data": {
      "text/plain": [
       "[['HTML', 'CSS'], 'JS', 'React', 'Redux', 'Node', 'Express', 'MongoDB']"
      ]
     },
     "execution_count": 38,
     "metadata": {},
     "output_type": "execute_result"
    }
   ],
   "source": [
    "front_end = [['HTML', 'CSS'], 'JS', 'React', 'Redux']\n",
    "back_end = ['Node','Express', 'MongoDB']\n",
    "\n",
    "end = front_end + back_end\n",
    "end"
   ]
  },
  {
   "cell_type": "markdown",
   "metadata": {},
   "source": [
    "21. De la lista **end** imprimir 'HTML'"
   ]
  },
  {
   "cell_type": "code",
   "execution_count": 39,
   "metadata": {},
   "outputs": [
    {
     "data": {
      "text/plain": [
       "'HTML'"
      ]
     },
     "execution_count": 39,
     "metadata": {},
     "output_type": "execute_result"
    }
   ],
   "source": [
    "end[0][0]"
   ]
  },
  {
   "cell_type": "markdown",
   "metadata": {},
   "source": [
    "22. En la lista final, imprima la \"C\" de la palabra \"CSS\"."
   ]
  },
  {
   "cell_type": "code",
   "execution_count": 41,
   "metadata": {},
   "outputs": [
    {
     "data": {
      "text/plain": [
       "'C'"
      ]
     },
     "execution_count": 41,
     "metadata": {},
     "output_type": "execute_result"
    }
   ],
   "source": [
    "end[0][1][0]"
   ]
  },
  {
   "cell_type": "markdown",
   "metadata": {},
   "source": [
    "### Ejercicio 3."
   ]
  },
  {
   "cell_type": "markdown",
   "metadata": {},
   "source": [
    "¿Sabes que puedes crear tuplas con un solo elemento?\n",
    "\n",
    "1. En la celda de abajo, define una variable **tup** con un solo elemento \"T\".\n",
    "\n",
    "Pista: tienes que añadir una coma (,) después del elemento único."
   ]
  },
  {
   "cell_type": "code",
   "execution_count": 56,
   "metadata": {},
   "outputs": [
    {
     "data": {
      "text/plain": [
       "('T',)"
      ]
     },
     "execution_count": 56,
     "metadata": {},
     "output_type": "execute_result"
    }
   ],
   "source": [
    "tup = (\"T\",)\n",
    "tup"
   ]
  },
  {
   "cell_type": "markdown",
   "metadata": {},
   "source": [
    "2. Imprime el tipo de tup.\n",
    "Asegúrese de que su tipo es correcto (es decir, tupla en lugar de str)."
   ]
  },
  {
   "cell_type": "code",
   "execution_count": 57,
   "metadata": {},
   "outputs": [
    {
     "data": {
      "text/plain": [
       "tuple"
      ]
     },
     "execution_count": 57,
     "metadata": {},
     "output_type": "execute_result"
    }
   ],
   "source": [
    "type(tup)"
   ]
  },
  {
   "cell_type": "markdown",
   "metadata": {},
   "source": [
    "3. Ahora intenta añadir los siguientes elementos a **tup**.\n",
    "¿Eres capaz de hacerlo? Explícalo.\n",
    "\n",
    "`\"H\", \"E\", \" \", \"B\", \"R\", \"I\", \"D\", \"G\", \"E\",`"
   ]
  },
  {
   "cell_type": "code",
   "execution_count": 58,
   "metadata": {},
   "outputs": [
    {
     "data": {
      "text/plain": [
       "('T', 'H', 'E', ' ', 'B', 'R', 'I', 'D', 'G', 'E')"
      ]
     },
     "execution_count": 58,
     "metadata": {},
     "output_type": "execute_result"
    }
   ],
   "source": [
    "#se puede transformando la tupla a lista\n",
    "tup = list(tup)\n",
    "lista_para_agregar = [\"H\", \"E\", \" \", \"B\", \"R\", \"I\", \"D\", \"G\", \"E\"]\n",
    "for elemento in lista_para_agregar:\n",
    "    tup.append(elemento)\n",
    "\n",
    "tup = tuple(tup)\n",
    "tup"
   ]
  },
  {
   "cell_type": "markdown",
   "metadata": {},
   "source": [
    "4. ¿Qué tal reasignar un nuevo valor a una tupla existente?\n",
    "\n",
    "Reasigna los siguientes elementos a **tup**.\n",
    "\n",
    "¿Eres capaz de hacerlo? Explícalo.\n",
    "\n",
    "\n",
    "`\"T\", \"H\", \"E\", \" \", \"B\", \"R\", \"I\", \"D\", \"G\", \"E\",`"
   ]
  },
  {
   "cell_type": "code",
   "execution_count": 60,
   "metadata": {},
   "outputs": [
    {
     "data": {
      "text/plain": [
       "('T', 'H', 'E', ' ', 'B', 'R', 'I', 'D', 'G', 'E')"
      ]
     },
     "execution_count": 60,
     "metadata": {},
     "output_type": "execute_result"
    }
   ],
   "source": [
    "tup = list(tup)\n",
    "tup.clear()\n",
    "tup = [\"T\", \"H\", \"E\", \" \", \"B\", \"R\", \"I\", \"D\", \"G\", \"E\"]\n",
    "\n",
    "tup = tuple(tup)\n",
    "tup"
   ]
  },
  {
   "cell_type": "markdown",
   "metadata": {},
   "source": [
    "### Ejercicio 4.\n",
    "\n",
    "1. Convierte **lista_repes** en un *conjunto* para obtener sólo los valores únicos de la lista, asignándolo a una variable llamada **mi_conjunto**."
   ]
  },
  {
   "cell_type": "code",
   "execution_count": 61,
   "metadata": {},
   "outputs": [],
   "source": [
    "lista_repes = [\"data\", \"data\", \"data\", \"science\", \"science\", \"python\", \"python\", \"diomedes\", \"diomedes\", \"diomedes\", \"diomedes\", \"clara\", \"gabriel\", \"gabriel\", \"gabriel\"]"
   ]
  },
  {
   "cell_type": "code",
   "execution_count": 66,
   "metadata": {},
   "outputs": [
    {
     "data": {
      "text/plain": [
       "{'clara', 'data', 'diomedes', 'gabriel', 'python', 'science'}"
      ]
     },
     "execution_count": 66,
     "metadata": {},
     "output_type": "execute_result"
    }
   ],
   "source": [
    "mi_conjunto = set(lista_repes)\n",
    "mi_conjunto"
   ]
  },
  {
   "cell_type": "markdown",
   "metadata": {},
   "source": [
    "2. Intenta imprimir el primer elemento de **mi_conjunto**.\n",
    "\n",
    "Lo has hecho bien si obtienes *TypeError: 'set' object is not subscriptable*."
   ]
  },
  {
   "cell_type": "code",
   "execution_count": 63,
   "metadata": {},
   "outputs": [
    {
     "ename": "TypeError",
     "evalue": "'set' object is not subscriptable",
     "output_type": "error",
     "traceback": [
      "\u001b[1;31m---------------------------------------------------------------------------\u001b[0m",
      "\u001b[1;31mTypeError\u001b[0m                                 Traceback (most recent call last)",
      "\u001b[1;32mc:\\Users\\Usuario\\OneDrive\\Documentos\\GitHub\\DS_PT_09_2023\\01-Ramp_Up\\02-Python\\02-Ejercicios de repaso\\Practice_2_Collections.ipynb Cell 67\u001b[0m line \u001b[0;36m1\n\u001b[1;32m----> <a href='vscode-notebook-cell:/c%3A/Users/Usuario/OneDrive/Documentos/GitHub/DS_PT_09_2023/01-Ramp_Up/02-Python/02-Ejercicios%20de%20repaso/Practice_2_Collections.ipynb#Y123sZmlsZQ%3D%3D?line=0'>1</a>\u001b[0m mi_conjunto[\u001b[39m0\u001b[39;49m]\n",
      "\u001b[1;31mTypeError\u001b[0m: 'set' object is not subscriptable"
     ]
    }
   ],
   "source": [
    "mi_conjunto[0]"
   ]
  },
  {
   "cell_type": "markdown",
   "metadata": {},
   "source": [
    "3. Convierte **mi_conjunto** en una lista, utilizando la función `list()`.\n",
    "\n",
    "¿Puedes imprimir ahora el primer elemento?"
   ]
  },
  {
   "cell_type": "code",
   "execution_count": 67,
   "metadata": {},
   "outputs": [
    {
     "data": {
      "text/plain": [
       "'diomedes'"
      ]
     },
     "execution_count": 67,
     "metadata": {},
     "output_type": "execute_result"
    }
   ],
   "source": [
    "mi_conjunto = list(mi_conjunto)\n",
    "mi_conjunto[0]"
   ]
  },
  {
   "cell_type": "code",
   "execution_count": null,
   "metadata": {},
   "outputs": [],
   "source": []
  }
 ],
 "metadata": {
  "kernelspec": {
   "display_name": "Python 3",
   "language": "python",
   "name": "python3"
  },
  "language_info": {
   "codemirror_mode": {
    "name": "ipython",
    "version": 3
   },
   "file_extension": ".py",
   "mimetype": "text/x-python",
   "name": "python",
   "nbconvert_exporter": "python",
   "pygments_lexer": "ipython3",
   "version": "3.10.9"
  }
 },
 "nbformat": 4,
 "nbformat_minor": 4
}
