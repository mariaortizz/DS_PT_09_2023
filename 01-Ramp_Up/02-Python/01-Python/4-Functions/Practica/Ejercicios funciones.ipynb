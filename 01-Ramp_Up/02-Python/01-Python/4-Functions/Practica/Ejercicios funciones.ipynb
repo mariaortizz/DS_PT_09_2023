{
 "cells": [
  {
   "cell_type": "markdown",
   "metadata": {},
   "source": [
    "![imagen](./img/ejercicios.png)"
   ]
  },
  {
   "cell_type": "markdown",
   "metadata": {},
   "source": [
    "# Ejercicios funciones\n",
    "## Ejercicio 1\n",
    "Escribe una función que convierta números del 1 al 7 en nombres de los dias de la semana. La función constará de un único argumento numérico y una salida de tipo string"
   ]
  },
  {
   "cell_type": "code",
   "execution_count": 1,
   "metadata": {},
   "outputs": [
    {
     "name": "stdout",
     "output_type": "stream",
     "text": [
      "Martes\n"
     ]
    }
   ],
   "source": [
    "def dias_semana (numero_usuario:int) -> str :\n",
    "    dias_semana = ['Lunes', 'Martes', 'Miercoles', 'Jueves', 'Viernes']\n",
    "    try: \n",
    "        dia = dias_semana[numero_usuario-1]\n",
    "        return dia\n",
    "    except Exception:\n",
    "        print(\"Error al trasnformar el día\")\n",
    "\n",
    "numero_usuario = int(input(\"Ingresa un número: \"))\n",
    "\n",
    "print(dias_semana (numero_usuario))        "
   ]
  },
  {
   "cell_type": "markdown",
   "metadata": {},
   "source": [
    "## Ejercicio 2\n",
    "En el ejercicio 8 de bucles, creábamos una pirámide invertida, cuyo número de pisos venía determinado por un input del usuario. Crea una función que replique el comportamiento de la pirámide, y utiliza un único parámetro de entrada de la función para determinar el número de filas de la pirámide, es decir, elimina la sentencia input."
   ]
  },
  {
   "cell_type": "code",
   "execution_count": 53,
   "metadata": {},
   "outputs": [
    {
     "name": "stdout",
     "output_type": "stream",
     "text": [
      "5 4 3 2 1\n",
      "4 3 2 1\n",
      "3 2 1\n",
      "2 1\n",
      "1\n"
     ]
    },
    {
     "data": {
      "text/plain": [
       "[]"
      ]
     },
     "execution_count": 53,
     "metadata": {},
     "output_type": "execute_result"
    }
   ],
   "source": [
    "numero_usuario = 5\n",
    "numeros = list(range(1, numero_usuario+1))\n",
    "numeros.reverse()\n",
    "\n",
    "\n",
    "for numero in range(len(numeros)):\n",
    "    print(*numeros)\n",
    "    numeros.pop(0)\n",
    "\n"
   ]
  },
  {
   "cell_type": "code",
   "execution_count": 7,
   "metadata": {},
   "outputs": [
    {
     "name": "stdout",
     "output_type": "stream",
     "text": [
      "5 4 3 2 1\n",
      "4 3 2 1\n",
      "3 2 1\n",
      "2 1\n",
      "1\n"
     ]
    }
   ],
   "source": [
    "def piramide_invertida(numero_usuario : int):\n",
    "    try:\n",
    "        numeros = list(range(1, numero_usuario+1))\n",
    "        numeros.reverse()\n",
    "        for numero in range(len(numeros)):\n",
    "            print(*numeros)\n",
    "            numeros.pop(0)        \n",
    "    except Exception:\n",
    "        print(\"No se pudo obtener la piramide\")\n",
    "\n",
    "numero_usuario = 5\n",
    "piramide_invertida(numero_usuario)\n",
    "\n"
   ]
  },
  {
   "cell_type": "markdown",
   "metadata": {},
   "source": [
    "## Ejercicio 3\n",
    "Escibe una función que compare dos números. La función tiene dos argumentos y hay tres salidas posibles: que sean iguales, que el primero se  mayor que el segundo, o que el segundo sea mayor que el primero"
   ]
  },
  {
   "cell_type": "code",
   "execution_count": 1,
   "metadata": {},
   "outputs": [
    {
     "name": "stdout",
     "output_type": "stream",
     "text": [
      "('El segundo número es mayor que el primero',)\n"
     ]
    }
   ],
   "source": [
    "def comparativa_numeros (num1 : int, num2 : int) -> str:\n",
    "    num1 = float(num1)\n",
    "    num2 = float(num2)\n",
    "    try:\n",
    "        if num1 == num2:\n",
    "            output = \"Lo números son iguales\"\n",
    "            return output\n",
    "        elif num1 > num2:\n",
    "            output = \"El primer número es mayor que el segundo\"\n",
    "            return output\n",
    "        elif num2 > num1:\n",
    "            output = \"El segundo número es mayor que el primero\"\n",
    "            return output\n",
    "    except Exception:\n",
    "        print(\"No se pudo obtener el numero \")\n",
    "\n",
    "print(comparativa_numeros(num1=2, num2=3))"
   ]
  },
  {
   "cell_type": "markdown",
   "metadata": {},
   "source": [
    "## Ejercicio 4\n",
    "Escribe una función que sea un contador de letras. En el primer argumento tienes que introducir un texto, y el segundo que sea la letra a contar. La función tiene que devolver un entero con el número de veces que aparece esa letra, tanto mayuscula, como minúscula"
   ]
  },
  {
   "cell_type": "code",
   "execution_count": 37,
   "metadata": {},
   "outputs": [
    {
     "name": "stdout",
     "output_type": "stream",
     "text": [
      "0\n"
     ]
    }
   ],
   "source": [
    "def contar_letra (texto : str, letra : str) -> int:\n",
    "    try:\n",
    "        cantidad_de_veces = texto.lower().count(letra.lower())\n",
    "        return cantidad_de_veces\n",
    "    except Exception:\n",
    "        print(\"Error al contar el valor\")\n",
    "\n",
    "texto = 'cAsa'\n",
    "letra = 'A'\n",
    "\n",
    "print(contar_letra(texto, letra))"
   ]
  },
  {
   "cell_type": "markdown",
   "metadata": {},
   "source": [
    "## Ejercicio 5\n",
    "Escribe una función que tenga un único argumento, un string. La salida de la función tiene que ser un diccionario con el conteo de todas las letras de ese string."
   ]
  },
  {
   "cell_type": "code",
   "execution_count": 38,
   "metadata": {},
   "outputs": [
    {
     "name": "stdout",
     "output_type": "stream",
     "text": [
      "{0: 's', 1: 'c', 2: 'a'}\n"
     ]
    }
   ],
   "source": [
    "def diccionario_de_texto (texto : str) -> dict:\n",
    "    try:\n",
    "        set_texto = set(texto)\n",
    "        dicc = {}\n",
    "        for index,letra in enumerate(set_texto):\n",
    "            dicc[index] = letra\n",
    "        return dicc\n",
    "    except Exception:\n",
    "        print(\"Error al generar el diccionario el valor\")\n",
    "\n",
    "texto = 'casa'\n",
    "print(diccionario_de_texto (texto))"
   ]
  },
  {
   "cell_type": "markdown",
   "metadata": {},
   "source": [
    "## Ejercicio 6\n",
    "Escribir una función que añada o elimine elementos en una lista. La función necesita los siguientes argumentos:\n",
    "* lista: la lista donde se añadirán o eliminarán los elementos\n",
    "* comando: \"add\" o \"remove\"\n",
    "* elemento: Por defecto es None."
   ]
  },
  {
   "cell_type": "code",
   "execution_count": 30,
   "metadata": {},
   "outputs": [],
   "source": [
    "def agregar_o_quitar_elementos(lista :list, comando :str, elemento = None):\n",
    "    try:\n",
    "        if comando == 'add':\n",
    "            lista.append(elemento)\n",
    "        else:\n",
    "            lista.remove(elemento)\n",
    "        return lista\n",
    "    except Exception:\n",
    "        print(\"Error al agregar o quitar elementos\")"
   ]
  },
  {
   "cell_type": "code",
   "execution_count": 33,
   "metadata": {},
   "outputs": [
    {
     "name": "stdout",
     "output_type": "stream",
     "text": [
      "[1, 2, 3, 4, 5, None]\n"
     ]
    }
   ],
   "source": [
    "lista = [1,2,3,4,5]\n",
    "elemento = 6\n",
    "comando = 'add'\n",
    "\n",
    "print(agregar_o_quitar_elementos(lista, comando ,elemento))"
   ]
  },
  {
   "cell_type": "markdown",
   "metadata": {},
   "source": [
    "## Ejercicio 7\n",
    "Crea una función que reciba un número arbitrario de palabras, y devuelva una frase completa, separando las palabras con espacios."
   ]
  },
  {
   "cell_type": "code",
   "execution_count": 44,
   "metadata": {},
   "outputs": [],
   "source": [
    "def crear_frase (*args):\n",
    "    return ' '.join(*args)\n",
    "        "
   ]
  },
  {
   "cell_type": "code",
   "execution_count": 45,
   "metadata": {},
   "outputs": [
    {
     "name": "stdout",
     "output_type": "stream",
     "text": [
      "Hola como estas\n"
     ]
    }
   ],
   "source": [
    "lista_palabras = ('Hola', 'como', 'estas')\n",
    "\n",
    "print(crear_frase (lista_palabras))"
   ]
  },
  {
   "cell_type": "markdown",
   "metadata": {},
   "source": [
    "## Ejercicio 8\n",
    "Escribe un programa que obtenga el enésimo número de la [serie de Fibonacci](https://es.wikipedia.org/wiki/Sucesi%C3%B3n_de_Fibonacci). Tienes que crear una función recursiva con un único argumento.\n",
    "\n",
    "```Python\n",
    "fibonacci(2) = 1\n",
    "fibonacci(4) = 3\n",
    "fibonacci(5) = 5\n",
    "fibonacci(8) = 21\n",
    "```"
   ]
  },
  {
   "cell_type": "code",
   "execution_count": null,
   "metadata": {},
   "outputs": [],
   "source": [
    "try:\n",
    "    numero_usuario_1 = int(input(\"Ingresa un número: \"))\n",
    "    a = 0\n",
    "    b = 1\n",
    "\n",
    "    while a <= numero_usuario_1:\n",
    "        print(a + ' ')\n",
    "        a =b\n",
    "        b = a + b\n",
    "except Exception:\n",
    "    print(\"Valor erroneo\")"
   ]
  },
  {
   "cell_type": "code",
   "execution_count": null,
   "metadata": {},
   "outputs": [],
   "source": [
    "def fibonacci (numero:int) -> int:\n",
    "    if numero == 1:\n",
    "        return 1\n",
    "    else:\n",
    "        return numero * fibonacci(x-1)"
   ]
  },
  {
   "cell_type": "markdown",
   "metadata": {},
   "source": [
    "## Ejercicio 9\n",
    "Define en una única celda las siguientes funciones:\n",
    "* Función que calcule el área de un cuadrado\n",
    "* Función que calcule el area de un triángulo\n",
    "* Función que calcule el área de un círculo\n",
    "\n",
    "En otra celda, calcular el area de:\n",
    "* Dos círculos de radio 10 + un triángulo de base 3 y altura 7\n",
    "* Un cuadrado de lado = 10 + 3 círculos (uno de radio = 4 y los otros dos de radio = 6) + 5 triángulos de base = 2 + altura = 4"
   ]
  },
  {
   "cell_type": "code",
   "execution_count": null,
   "metadata": {},
   "outputs": [],
   "source": []
  },
  {
   "cell_type": "code",
   "execution_count": null,
   "metadata": {},
   "outputs": [],
   "source": []
  },
  {
   "cell_type": "code",
   "execution_count": null,
   "metadata": {},
   "outputs": [],
   "source": []
  },
  {
   "cell_type": "code",
   "execution_count": null,
   "metadata": {},
   "outputs": [],
   "source": []
  },
  {
   "cell_type": "code",
   "execution_count": null,
   "metadata": {},
   "outputs": [],
   "source": []
  }
 ],
 "metadata": {
  "kernelspec": {
   "display_name": "Python 3",
   "language": "python",
   "name": "python3"
  },
  "language_info": {
   "codemirror_mode": {
    "name": "ipython",
    "version": 3
   },
   "file_extension": ".py",
   "mimetype": "text/x-python",
   "name": "python",
   "nbconvert_exporter": "python",
   "pygments_lexer": "ipython3",
   "version": "3.10.9"
  }
 },
 "nbformat": 4,
 "nbformat_minor": 4
}
