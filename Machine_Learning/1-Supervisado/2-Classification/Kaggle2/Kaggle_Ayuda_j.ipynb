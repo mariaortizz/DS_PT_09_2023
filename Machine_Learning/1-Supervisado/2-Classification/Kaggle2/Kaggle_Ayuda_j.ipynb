{
 "cells": [
  {
   "attachments": {},
   "cell_type": "markdown",
   "metadata": {},
   "source": [
    "#### Aquí encontrarás todo lo que necesitas saber: https://www.kaggle.com/t/ab8726f0cfc84544abbae69a6be88071"
   ]
  },
  {
   "attachments": {},
   "cell_type": "markdown",
   "metadata": {},
   "source": [
    "## Librerias"
   ]
  },
  {
   "cell_type": "code",
   "execution_count": 9,
   "metadata": {},
   "outputs": [],
   "source": [
    "import pandas as pd\n",
    "import numpy as np \n",
    "import traceback\n",
    "\n",
    "import urllib.request\n",
    "from PIL import Image"
   ]
  },
  {
   "attachments": {},
   "cell_type": "markdown",
   "metadata": {},
   "source": [
    "## Data"
   ]
  },
  {
   "cell_type": "code",
   "execution_count": 3,
   "metadata": {},
   "outputs": [],
   "source": [
    "### Para que funcione necesitas bajarte los archivos de datos de Kaggle \n",
    "train = pd.read_csv(\"data/train.csv\")"
   ]
  },
  {
   "attachments": {},
   "cell_type": "markdown",
   "metadata": {},
   "source": [
    "## Data exploration"
   ]
  },
  {
   "cell_type": "code",
   "execution_count": 4,
   "metadata": {},
   "outputs": [
    {
     "name": "stdout",
     "output_type": "stream",
     "text": [
      "<class 'pandas.core.frame.DataFrame'>\n",
      "RangeIndex: 73363 entries, 0 to 73362\n",
      "Data columns (total 12 columns):\n",
      " #   Column                                Non-Null Count  Dtype  \n",
      "---  ------                                --------------  -----  \n",
      " 0   Id                                    73363 non-null  int64  \n",
      " 1   target                                73363 non-null  int64  \n",
      " 2   RevolvingUtilizationOfUnsecuredLines  73363 non-null  float64\n",
      " 3   age                                   73363 non-null  object \n",
      " 4   NumberOfTime30-59DaysPastDueNotWorse  73363 non-null  int64  \n",
      " 5   DebtRatio                             73363 non-null  float64\n",
      " 6   MonthlyIncome                         58796 non-null  float64\n",
      " 7   NumberOfOpenCreditLinesAndLoans       73363 non-null  int64  \n",
      " 8   NumberOfTimes90DaysLate               73363 non-null  int64  \n",
      " 9   NumberRealEstateLoansOrLines          73363 non-null  int64  \n",
      " 10  NumberOfTime60-89DaysPastDueNotWorse  73363 non-null  int64  \n",
      " 11  NumberOfDependents                    71421 non-null  float64\n",
      "dtypes: float64(4), int64(7), object(1)\n",
      "memory usage: 6.7+ MB\n"
     ]
    }
   ],
   "source": [
    "train.info()"
   ]
  },
  {
   "cell_type": "code",
   "execution_count": 5,
   "metadata": {},
   "outputs": [
    {
     "data": {
      "text/html": [
       "<div>\n",
       "<style scoped>\n",
       "    .dataframe tbody tr th:only-of-type {\n",
       "        vertical-align: middle;\n",
       "    }\n",
       "\n",
       "    .dataframe tbody tr th {\n",
       "        vertical-align: top;\n",
       "    }\n",
       "\n",
       "    .dataframe thead th {\n",
       "        text-align: right;\n",
       "    }\n",
       "</style>\n",
       "<table border=\"1\" class=\"dataframe\">\n",
       "  <thead>\n",
       "    <tr style=\"text-align: right;\">\n",
       "      <th></th>\n",
       "      <th>Id</th>\n",
       "      <th>target</th>\n",
       "      <th>RevolvingUtilizationOfUnsecuredLines</th>\n",
       "      <th>age</th>\n",
       "      <th>NumberOfTime30-59DaysPastDueNotWorse</th>\n",
       "      <th>DebtRatio</th>\n",
       "      <th>MonthlyIncome</th>\n",
       "      <th>NumberOfOpenCreditLinesAndLoans</th>\n",
       "      <th>NumberOfTimes90DaysLate</th>\n",
       "      <th>NumberRealEstateLoansOrLines</th>\n",
       "      <th>NumberOfTime60-89DaysPastDueNotWorse</th>\n",
       "      <th>NumberOfDependents</th>\n",
       "    </tr>\n",
       "  </thead>\n",
       "  <tbody>\n",
       "    <tr>\n",
       "      <th>0</th>\n",
       "      <td>44164</td>\n",
       "      <td>0</td>\n",
       "      <td>0.768219</td>\n",
       "      <td>68y</td>\n",
       "      <td>1</td>\n",
       "      <td>0.687930</td>\n",
       "      <td>2178.0</td>\n",
       "      <td>12</td>\n",
       "      <td>0</td>\n",
       "      <td>1</td>\n",
       "      <td>0</td>\n",
       "      <td>0.0</td>\n",
       "    </tr>\n",
       "    <tr>\n",
       "      <th>1</th>\n",
       "      <td>95356</td>\n",
       "      <td>0</td>\n",
       "      <td>0.289873</td>\n",
       "      <td>52y</td>\n",
       "      <td>0</td>\n",
       "      <td>0.385497</td>\n",
       "      <td>3750.0</td>\n",
       "      <td>16</td>\n",
       "      <td>0</td>\n",
       "      <td>1</td>\n",
       "      <td>0</td>\n",
       "      <td>1.0</td>\n",
       "    </tr>\n",
       "    <tr>\n",
       "      <th>2</th>\n",
       "      <td>108917</td>\n",
       "      <td>0</td>\n",
       "      <td>0.000000</td>\n",
       "      <td>54y</td>\n",
       "      <td>0</td>\n",
       "      <td>0.346503</td>\n",
       "      <td>6833.0</td>\n",
       "      <td>8</td>\n",
       "      <td>0</td>\n",
       "      <td>1</td>\n",
       "      <td>0</td>\n",
       "      <td>0.0</td>\n",
       "    </tr>\n",
       "    <tr>\n",
       "      <th>3</th>\n",
       "      <td>99039</td>\n",
       "      <td>0</td>\n",
       "      <td>0.046064</td>\n",
       "      <td>66y</td>\n",
       "      <td>1</td>\n",
       "      <td>0.407614</td>\n",
       "      <td>5200.0</td>\n",
       "      <td>6</td>\n",
       "      <td>0</td>\n",
       "      <td>1</td>\n",
       "      <td>0</td>\n",
       "      <td>1.0</td>\n",
       "    </tr>\n",
       "    <tr>\n",
       "      <th>4</th>\n",
       "      <td>116168</td>\n",
       "      <td>0</td>\n",
       "      <td>0.168771</td>\n",
       "      <td>45y</td>\n",
       "      <td>0</td>\n",
       "      <td>4702.000000</td>\n",
       "      <td>NaN</td>\n",
       "      <td>10</td>\n",
       "      <td>0</td>\n",
       "      <td>3</td>\n",
       "      <td>0</td>\n",
       "      <td>1.0</td>\n",
       "    </tr>\n",
       "  </tbody>\n",
       "</table>\n",
       "</div>"
      ],
      "text/plain": [
       "       Id  target  RevolvingUtilizationOfUnsecuredLines  age  \\\n",
       "0   44164       0                              0.768219  68y   \n",
       "1   95356       0                              0.289873  52y   \n",
       "2  108917       0                              0.000000  54y   \n",
       "3   99039       0                              0.046064  66y   \n",
       "4  116168       0                              0.168771  45y   \n",
       "\n",
       "   NumberOfTime30-59DaysPastDueNotWorse    DebtRatio  MonthlyIncome  \\\n",
       "0                                     1     0.687930         2178.0   \n",
       "1                                     0     0.385497         3750.0   \n",
       "2                                     0     0.346503         6833.0   \n",
       "3                                     1     0.407614         5200.0   \n",
       "4                                     0  4702.000000            NaN   \n",
       "\n",
       "   NumberOfOpenCreditLinesAndLoans  NumberOfTimes90DaysLate  \\\n",
       "0                               12                        0   \n",
       "1                               16                        0   \n",
       "2                                8                        0   \n",
       "3                                6                        0   \n",
       "4                               10                        0   \n",
       "\n",
       "   NumberRealEstateLoansOrLines  NumberOfTime60-89DaysPastDueNotWorse  \\\n",
       "0                             1                                     0   \n",
       "1                             1                                     0   \n",
       "2                             1                                     0   \n",
       "3                             1                                     0   \n",
       "4                             3                                     0   \n",
       "\n",
       "   NumberOfDependents  \n",
       "0                 0.0  \n",
       "1                 1.0  \n",
       "2                 0.0  \n",
       "3                 1.0  \n",
       "4                 1.0  "
      ]
     },
     "execution_count": 5,
     "metadata": {},
     "output_type": "execute_result"
    }
   ],
   "source": [
    "train.head()"
   ]
  },
  {
   "cell_type": "code",
   "execution_count": 8,
   "metadata": {},
   "outputs": [
    {
     "data": {
      "text/html": [
       "<div>\n",
       "<style scoped>\n",
       "    .dataframe tbody tr th:only-of-type {\n",
       "        vertical-align: middle;\n",
       "    }\n",
       "\n",
       "    .dataframe tbody tr th {\n",
       "        vertical-align: top;\n",
       "    }\n",
       "\n",
       "    .dataframe thead th {\n",
       "        text-align: right;\n",
       "    }\n",
       "</style>\n",
       "<table border=\"1\" class=\"dataframe\">\n",
       "  <thead>\n",
       "    <tr style=\"text-align: right;\">\n",
       "      <th></th>\n",
       "      <th>Id</th>\n",
       "      <th>target</th>\n",
       "      <th>RevolvingUtilizationOfUnsecuredLines</th>\n",
       "      <th>age</th>\n",
       "      <th>NumberOfTime30-59DaysPastDueNotWorse</th>\n",
       "      <th>DebtRatio</th>\n",
       "      <th>MonthlyIncome</th>\n",
       "      <th>NumberOfOpenCreditLinesAndLoans</th>\n",
       "      <th>NumberOfTimes90DaysLate</th>\n",
       "      <th>NumberRealEstateLoansOrLines</th>\n",
       "      <th>NumberOfTime60-89DaysPastDueNotWorse</th>\n",
       "      <th>NumberOfDependents</th>\n",
       "    </tr>\n",
       "  </thead>\n",
       "  <tbody>\n",
       "    <tr>\n",
       "      <th>count</th>\n",
       "      <td>73363.000000</td>\n",
       "      <td>73363.000000</td>\n",
       "      <td>73363.000000</td>\n",
       "      <td>73363</td>\n",
       "      <td>73363.000000</td>\n",
       "      <td>73363.000000</td>\n",
       "      <td>5.879600e+04</td>\n",
       "      <td>73363.000000</td>\n",
       "      <td>73363.000000</td>\n",
       "      <td>73363.000000</td>\n",
       "      <td>73363.000000</td>\n",
       "      <td>71421.000000</td>\n",
       "    </tr>\n",
       "    <tr>\n",
       "      <th>unique</th>\n",
       "      <td>NaN</td>\n",
       "      <td>NaN</td>\n",
       "      <td>NaN</td>\n",
       "      <td>84</td>\n",
       "      <td>NaN</td>\n",
       "      <td>NaN</td>\n",
       "      <td>NaN</td>\n",
       "      <td>NaN</td>\n",
       "      <td>NaN</td>\n",
       "      <td>NaN</td>\n",
       "      <td>NaN</td>\n",
       "      <td>NaN</td>\n",
       "    </tr>\n",
       "    <tr>\n",
       "      <th>top</th>\n",
       "      <td>NaN</td>\n",
       "      <td>NaN</td>\n",
       "      <td>NaN</td>\n",
       "      <td>48y</td>\n",
       "      <td>NaN</td>\n",
       "      <td>NaN</td>\n",
       "      <td>NaN</td>\n",
       "      <td>NaN</td>\n",
       "      <td>NaN</td>\n",
       "      <td>NaN</td>\n",
       "      <td>NaN</td>\n",
       "      <td>NaN</td>\n",
       "    </tr>\n",
       "    <tr>\n",
       "      <th>freq</th>\n",
       "      <td>NaN</td>\n",
       "      <td>NaN</td>\n",
       "      <td>NaN</td>\n",
       "      <td>1885</td>\n",
       "      <td>NaN</td>\n",
       "      <td>NaN</td>\n",
       "      <td>NaN</td>\n",
       "      <td>NaN</td>\n",
       "      <td>NaN</td>\n",
       "      <td>NaN</td>\n",
       "      <td>NaN</td>\n",
       "      <td>NaN</td>\n",
       "    </tr>\n",
       "    <tr>\n",
       "      <th>mean</th>\n",
       "      <td>75035.459564</td>\n",
       "      <td>0.065919</td>\n",
       "      <td>5.884904</td>\n",
       "      <td>NaN</td>\n",
       "      <td>0.410507</td>\n",
       "      <td>359.752537</td>\n",
       "      <td>6.649145e+03</td>\n",
       "      <td>8.443916</td>\n",
       "      <td>0.256546</td>\n",
       "      <td>1.019928</td>\n",
       "      <td>0.231847</td>\n",
       "      <td>0.755506</td>\n",
       "    </tr>\n",
       "    <tr>\n",
       "      <th>std</th>\n",
       "      <td>43303.736606</td>\n",
       "      <td>0.248142</td>\n",
       "      <td>235.508449</td>\n",
       "      <td>NaN</td>\n",
       "      <td>4.090014</td>\n",
       "      <td>2477.648064</td>\n",
       "      <td>1.046163e+04</td>\n",
       "      <td>5.142232</td>\n",
       "      <td>4.066573</td>\n",
       "      <td>1.136357</td>\n",
       "      <td>4.052280</td>\n",
       "      <td>1.111715</td>\n",
       "    </tr>\n",
       "    <tr>\n",
       "      <th>min</th>\n",
       "      <td>2.000000</td>\n",
       "      <td>0.000000</td>\n",
       "      <td>0.000000</td>\n",
       "      <td>NaN</td>\n",
       "      <td>0.000000</td>\n",
       "      <td>0.000000</td>\n",
       "      <td>0.000000e+00</td>\n",
       "      <td>0.000000</td>\n",
       "      <td>0.000000</td>\n",
       "      <td>0.000000</td>\n",
       "      <td>0.000000</td>\n",
       "      <td>0.000000</td>\n",
       "    </tr>\n",
       "    <tr>\n",
       "      <th>25%</th>\n",
       "      <td>37449.000000</td>\n",
       "      <td>0.000000</td>\n",
       "      <td>0.029752</td>\n",
       "      <td>NaN</td>\n",
       "      <td>0.000000</td>\n",
       "      <td>0.173446</td>\n",
       "      <td>3.400000e+03</td>\n",
       "      <td>5.000000</td>\n",
       "      <td>0.000000</td>\n",
       "      <td>0.000000</td>\n",
       "      <td>0.000000</td>\n",
       "      <td>0.000000</td>\n",
       "    </tr>\n",
       "    <tr>\n",
       "      <th>50%</th>\n",
       "      <td>75032.000000</td>\n",
       "      <td>0.000000</td>\n",
       "      <td>0.154688</td>\n",
       "      <td>NaN</td>\n",
       "      <td>0.000000</td>\n",
       "      <td>0.365737</td>\n",
       "      <td>5.400000e+03</td>\n",
       "      <td>8.000000</td>\n",
       "      <td>0.000000</td>\n",
       "      <td>1.000000</td>\n",
       "      <td>0.000000</td>\n",
       "      <td>0.000000</td>\n",
       "    </tr>\n",
       "    <tr>\n",
       "      <th>75%</th>\n",
       "      <td>112628.500000</td>\n",
       "      <td>0.000000</td>\n",
       "      <td>0.558686</td>\n",
       "      <td>NaN</td>\n",
       "      <td>0.000000</td>\n",
       "      <td>0.863514</td>\n",
       "      <td>8.300000e+03</td>\n",
       "      <td>11.000000</td>\n",
       "      <td>0.000000</td>\n",
       "      <td>2.000000</td>\n",
       "      <td>0.000000</td>\n",
       "      <td>1.000000</td>\n",
       "    </tr>\n",
       "    <tr>\n",
       "      <th>max</th>\n",
       "      <td>149998.000000</td>\n",
       "      <td>1.000000</td>\n",
       "      <td>29110.000000</td>\n",
       "      <td>NaN</td>\n",
       "      <td>98.000000</td>\n",
       "      <td>329664.000000</td>\n",
       "      <td>1.560100e+06</td>\n",
       "      <td>57.000000</td>\n",
       "      <td>98.000000</td>\n",
       "      <td>32.000000</td>\n",
       "      <td>98.000000</td>\n",
       "      <td>13.000000</td>\n",
       "    </tr>\n",
       "  </tbody>\n",
       "</table>\n",
       "</div>"
      ],
      "text/plain": [
       "                   Id        target  RevolvingUtilizationOfUnsecuredLines  \\\n",
       "count    73363.000000  73363.000000                          73363.000000   \n",
       "unique            NaN           NaN                                   NaN   \n",
       "top               NaN           NaN                                   NaN   \n",
       "freq              NaN           NaN                                   NaN   \n",
       "mean     75035.459564      0.065919                              5.884904   \n",
       "std      43303.736606      0.248142                            235.508449   \n",
       "min          2.000000      0.000000                              0.000000   \n",
       "25%      37449.000000      0.000000                              0.029752   \n",
       "50%      75032.000000      0.000000                              0.154688   \n",
       "75%     112628.500000      0.000000                              0.558686   \n",
       "max     149998.000000      1.000000                          29110.000000   \n",
       "\n",
       "          age  NumberOfTime30-59DaysPastDueNotWorse      DebtRatio  \\\n",
       "count   73363                          73363.000000   73363.000000   \n",
       "unique     84                                   NaN            NaN   \n",
       "top       48y                                   NaN            NaN   \n",
       "freq     1885                                   NaN            NaN   \n",
       "mean      NaN                              0.410507     359.752537   \n",
       "std       NaN                              4.090014    2477.648064   \n",
       "min       NaN                              0.000000       0.000000   \n",
       "25%       NaN                              0.000000       0.173446   \n",
       "50%       NaN                              0.000000       0.365737   \n",
       "75%       NaN                              0.000000       0.863514   \n",
       "max       NaN                             98.000000  329664.000000   \n",
       "\n",
       "        MonthlyIncome  NumberOfOpenCreditLinesAndLoans  \\\n",
       "count    5.879600e+04                     73363.000000   \n",
       "unique            NaN                              NaN   \n",
       "top               NaN                              NaN   \n",
       "freq              NaN                              NaN   \n",
       "mean     6.649145e+03                         8.443916   \n",
       "std      1.046163e+04                         5.142232   \n",
       "min      0.000000e+00                         0.000000   \n",
       "25%      3.400000e+03                         5.000000   \n",
       "50%      5.400000e+03                         8.000000   \n",
       "75%      8.300000e+03                        11.000000   \n",
       "max      1.560100e+06                        57.000000   \n",
       "\n",
       "        NumberOfTimes90DaysLate  NumberRealEstateLoansOrLines  \\\n",
       "count              73363.000000                  73363.000000   \n",
       "unique                      NaN                           NaN   \n",
       "top                         NaN                           NaN   \n",
       "freq                        NaN                           NaN   \n",
       "mean                   0.256546                      1.019928   \n",
       "std                    4.066573                      1.136357   \n",
       "min                    0.000000                      0.000000   \n",
       "25%                    0.000000                      0.000000   \n",
       "50%                    0.000000                      1.000000   \n",
       "75%                    0.000000                      2.000000   \n",
       "max                   98.000000                     32.000000   \n",
       "\n",
       "        NumberOfTime60-89DaysPastDueNotWorse  NumberOfDependents  \n",
       "count                           73363.000000        71421.000000  \n",
       "unique                                   NaN                 NaN  \n",
       "top                                      NaN                 NaN  \n",
       "freq                                     NaN                 NaN  \n",
       "mean                                0.231847            0.755506  \n",
       "std                                 4.052280            1.111715  \n",
       "min                                 0.000000            0.000000  \n",
       "25%                                 0.000000            0.000000  \n",
       "50%                                 0.000000            0.000000  \n",
       "75%                                 0.000000            1.000000  \n",
       "max                                98.000000           13.000000  "
      ]
     },
     "execution_count": 8,
     "metadata": {},
     "output_type": "execute_result"
    }
   ],
   "source": [
    "train.describe(include='all')"
   ]
  },
  {
   "cell_type": "code",
   "execution_count": 12,
   "metadata": {},
   "outputs": [],
   "source": [
    "def cardinalidad(data):\n",
    "        '''Funcion para saber la cardinalidad de las varibales que tenemos en el data frame'''\n",
    "        try:\n",
    "            df_cardin = pd.DataFrame([{\n",
    "                        'variable' : i,\n",
    "                        'tipo_dato' : data[i].dtypes,\n",
    "                        'cantidad_de_nulos' : data[i].isna().sum(),\n",
    "                        'valores_unicos' : data[i].unique(),\n",
    "                        'cardinalidad' : data[i].nunique(),\n",
    "                        'porcentaje_cardinalidad' : (data[i].nunique()/data.shape[0])*100\n",
    "                    } for i in data])\n",
    "            \n",
    "        except Exception as a:\n",
    "            traceback.print_exc()\n",
    "            print(f\"No se pudo procesar el DataFrame por  {a}\")\n",
    "\n",
    "        return df_cardin"
   ]
  },
  {
   "cell_type": "code",
   "execution_count": 13,
   "metadata": {},
   "outputs": [
    {
     "data": {
      "text/html": [
       "<div>\n",
       "<style scoped>\n",
       "    .dataframe tbody tr th:only-of-type {\n",
       "        vertical-align: middle;\n",
       "    }\n",
       "\n",
       "    .dataframe tbody tr th {\n",
       "        vertical-align: top;\n",
       "    }\n",
       "\n",
       "    .dataframe thead th {\n",
       "        text-align: right;\n",
       "    }\n",
       "</style>\n",
       "<table border=\"1\" class=\"dataframe\">\n",
       "  <thead>\n",
       "    <tr style=\"text-align: right;\">\n",
       "      <th></th>\n",
       "      <th>variable</th>\n",
       "      <th>tipo_dato</th>\n",
       "      <th>cantidad_de_nulos</th>\n",
       "      <th>valores_unicos</th>\n",
       "      <th>cardinalidad</th>\n",
       "      <th>porcentaje_cardinalidad</th>\n",
       "    </tr>\n",
       "  </thead>\n",
       "  <tbody>\n",
       "    <tr>\n",
       "      <th>0</th>\n",
       "      <td>Id</td>\n",
       "      <td>int64</td>\n",
       "      <td>0</td>\n",
       "      <td>[44164, 95356, 108917, 99039, 116168, 80810, 9...</td>\n",
       "      <td>73363</td>\n",
       "      <td>100.000000</td>\n",
       "    </tr>\n",
       "    <tr>\n",
       "      <th>1</th>\n",
       "      <td>target</td>\n",
       "      <td>int64</td>\n",
       "      <td>0</td>\n",
       "      <td>[0, 1]</td>\n",
       "      <td>2</td>\n",
       "      <td>0.002726</td>\n",
       "    </tr>\n",
       "    <tr>\n",
       "      <th>2</th>\n",
       "      <td>RevolvingUtilizationOfUnsecuredLines</td>\n",
       "      <td>float64</td>\n",
       "      <td>0</td>\n",
       "      <td>[0.7682191279999999, 0.289873145, 0.0, 0.04606...</td>\n",
       "      <td>62269</td>\n",
       "      <td>84.877936</td>\n",
       "    </tr>\n",
       "    <tr>\n",
       "      <th>3</th>\n",
       "      <td>age</td>\n",
       "      <td>object</td>\n",
       "      <td>0</td>\n",
       "      <td>[68y, 52y, 54y, 66y, 45y, 73y, 63y, 56y, 44y, ...</td>\n",
       "      <td>84</td>\n",
       "      <td>0.114499</td>\n",
       "    </tr>\n",
       "    <tr>\n",
       "      <th>4</th>\n",
       "      <td>NumberOfTime30-59DaysPastDueNotWorse</td>\n",
       "      <td>int64</td>\n",
       "      <td>0</td>\n",
       "      <td>[1, 0, 3, 6, 2, 98, 4, 7, 5, 8, 96, 9, 13, 10,...</td>\n",
       "      <td>15</td>\n",
       "      <td>0.020446</td>\n",
       "    </tr>\n",
       "    <tr>\n",
       "      <th>5</th>\n",
       "      <td>DebtRatio</td>\n",
       "      <td>float64</td>\n",
       "      <td>0</td>\n",
       "      <td>[0.6879302429999999, 0.385497201, 0.34650278, ...</td>\n",
       "      <td>59279</td>\n",
       "      <td>80.802312</td>\n",
       "    </tr>\n",
       "    <tr>\n",
       "      <th>6</th>\n",
       "      <td>MonthlyIncome</td>\n",
       "      <td>float64</td>\n",
       "      <td>14567</td>\n",
       "      <td>[2178.0, 3750.0, 6833.0, 5200.0, nan, 3000.0, ...</td>\n",
       "      <td>10564</td>\n",
       "      <td>14.399629</td>\n",
       "    </tr>\n",
       "    <tr>\n",
       "      <th>7</th>\n",
       "      <td>NumberOfOpenCreditLinesAndLoans</td>\n",
       "      <td>int64</td>\n",
       "      <td>0</td>\n",
       "      <td>[12, 16, 8, 6, 10, 4, 7, 9, 2, 11, 13, 18, 22,...</td>\n",
       "      <td>56</td>\n",
       "      <td>0.076333</td>\n",
       "    </tr>\n",
       "    <tr>\n",
       "      <th>8</th>\n",
       "      <td>NumberOfTimes90DaysLate</td>\n",
       "      <td>int64</td>\n",
       "      <td>0</td>\n",
       "      <td>[0, 2, 1, 4, 3, 98, 7, 5, 6, 11, 10, 9, 17, 96...</td>\n",
       "      <td>17</td>\n",
       "      <td>0.023172</td>\n",
       "    </tr>\n",
       "    <tr>\n",
       "      <th>9</th>\n",
       "      <td>NumberRealEstateLoansOrLines</td>\n",
       "      <td>int64</td>\n",
       "      <td>0</td>\n",
       "      <td>[1, 3, 0, 2, 10, 5, 4, 7, 6, 12, 13, 8, 9, 11,...</td>\n",
       "      <td>24</td>\n",
       "      <td>0.032714</td>\n",
       "    </tr>\n",
       "    <tr>\n",
       "      <th>10</th>\n",
       "      <td>NumberOfTime60-89DaysPastDueNotWorse</td>\n",
       "      <td>int64</td>\n",
       "      <td>0</td>\n",
       "      <td>[0, 1, 2, 98, 3, 4, 9, 5, 7, 96, 6, 11]</td>\n",
       "      <td>12</td>\n",
       "      <td>0.016357</td>\n",
       "    </tr>\n",
       "    <tr>\n",
       "      <th>11</th>\n",
       "      <td>NumberOfDependents</td>\n",
       "      <td>float64</td>\n",
       "      <td>1942</td>\n",
       "      <td>[0.0, 1.0, 2.0, 4.0, 3.0, nan, 7.0, 5.0, 6.0, ...</td>\n",
       "      <td>11</td>\n",
       "      <td>0.014994</td>\n",
       "    </tr>\n",
       "  </tbody>\n",
       "</table>\n",
       "</div>"
      ],
      "text/plain": [
       "                                variable tipo_dato  cantidad_de_nulos  \\\n",
       "0                                     Id     int64                  0   \n",
       "1                                 target     int64                  0   \n",
       "2   RevolvingUtilizationOfUnsecuredLines   float64                  0   \n",
       "3                                    age    object                  0   \n",
       "4   NumberOfTime30-59DaysPastDueNotWorse     int64                  0   \n",
       "5                              DebtRatio   float64                  0   \n",
       "6                          MonthlyIncome   float64              14567   \n",
       "7        NumberOfOpenCreditLinesAndLoans     int64                  0   \n",
       "8                NumberOfTimes90DaysLate     int64                  0   \n",
       "9           NumberRealEstateLoansOrLines     int64                  0   \n",
       "10  NumberOfTime60-89DaysPastDueNotWorse     int64                  0   \n",
       "11                    NumberOfDependents   float64               1942   \n",
       "\n",
       "                                       valores_unicos  cardinalidad  \\\n",
       "0   [44164, 95356, 108917, 99039, 116168, 80810, 9...         73363   \n",
       "1                                              [0, 1]             2   \n",
       "2   [0.7682191279999999, 0.289873145, 0.0, 0.04606...         62269   \n",
       "3   [68y, 52y, 54y, 66y, 45y, 73y, 63y, 56y, 44y, ...            84   \n",
       "4   [1, 0, 3, 6, 2, 98, 4, 7, 5, 8, 96, 9, 13, 10,...            15   \n",
       "5   [0.6879302429999999, 0.385497201, 0.34650278, ...         59279   \n",
       "6   [2178.0, 3750.0, 6833.0, 5200.0, nan, 3000.0, ...         10564   \n",
       "7   [12, 16, 8, 6, 10, 4, 7, 9, 2, 11, 13, 18, 22,...            56   \n",
       "8   [0, 2, 1, 4, 3, 98, 7, 5, 6, 11, 10, 9, 17, 96...            17   \n",
       "9   [1, 3, 0, 2, 10, 5, 4, 7, 6, 12, 13, 8, 9, 11,...            24   \n",
       "10            [0, 1, 2, 98, 3, 4, 9, 5, 7, 96, 6, 11]            12   \n",
       "11  [0.0, 1.0, 2.0, 4.0, 3.0, nan, 7.0, 5.0, 6.0, ...            11   \n",
       "\n",
       "    porcentaje_cardinalidad  \n",
       "0                100.000000  \n",
       "1                  0.002726  \n",
       "2                 84.877936  \n",
       "3                  0.114499  \n",
       "4                  0.020446  \n",
       "5                 80.802312  \n",
       "6                 14.399629  \n",
       "7                  0.076333  \n",
       "8                  0.023172  \n",
       "9                  0.032714  \n",
       "10                 0.016357  \n",
       "11                 0.014994  "
      ]
     },
     "execution_count": 13,
     "metadata": {},
     "output_type": "execute_result"
    }
   ],
   "source": [
    "cardinalidad(train)"
   ]
  },
  {
   "attachments": {},
   "cell_type": "markdown",
   "metadata": {},
   "source": [
    "## Data processing"
   ]
  },
  {
   "cell_type": "code",
   "execution_count": 17,
   "metadata": {},
   "outputs": [
    {
     "data": {
      "text/plain": [
       "array([ 1,  0,  3,  6,  2, 98,  4,  7,  5,  8, 96,  9, 13, 10, 12],\n",
       "      dtype=int64)"
      ]
     },
     "execution_count": 17,
     "metadata": {},
     "output_type": "execute_result"
    }
   ],
   "source": [
    "train['NumberOfTime30-59DaysPastDueNotWorse'].unique()"
   ]
  },
  {
   "cell_type": "code",
   "execution_count": null,
   "metadata": {},
   "outputs": [],
   "source": [
    "train['']"
   ]
  },
  {
   "cell_type": "code",
   "execution_count": null,
   "metadata": {},
   "outputs": [],
   "source": []
  },
  {
   "attachments": {},
   "cell_type": "markdown",
   "metadata": {},
   "source": [
    "-----------------------------------------------------------------------------------------------------------------"
   ]
  },
  {
   "attachments": {},
   "cell_type": "markdown",
   "metadata": {},
   "source": [
    "## Pasos que si o si debéis realizar para poder participar en la competición:"
   ]
  },
  {
   "attachments": {},
   "cell_type": "markdown",
   "metadata": {},
   "source": [
    "### 1. Definir X e y"
   ]
  },
  {
   "cell_type": "code",
   "execution_count": null,
   "metadata": {},
   "outputs": [],
   "source": []
  },
  {
   "attachments": {},
   "cell_type": "markdown",
   "metadata": {},
   "source": [
    "### 2. Dividir X_train, X_test, y_train, y_test"
   ]
  },
  {
   "cell_type": "code",
   "execution_count": null,
   "metadata": {},
   "outputs": [],
   "source": [
    "from sklearn.model_selection import train_test_split"
   ]
  },
  {
   "cell_type": "code",
   "execution_count": null,
   "metadata": {},
   "outputs": [],
   "source": [
    "X_train, X_test, y_train, y_test = train_test_split(X, y, test_size = 0.20, random_state = 42)"
   ]
  },
  {
   "attachments": {},
   "cell_type": "markdown",
   "metadata": {},
   "source": [
    "### 3. Asignar el modelo (vacío) a una variable\n"
   ]
  },
  {
   "cell_type": "code",
   "execution_count": null,
   "metadata": {},
   "outputs": [],
   "source": []
  },
  {
   "attachments": {},
   "cell_type": "markdown",
   "metadata": {},
   "source": [
    "### 4. Sacar métricas, valorar el modelo \n",
    "\n",
    "Recuerda que en la competición se va a evaluar con la métrica de AUC."
   ]
  },
  {
   "attachments": {},
   "cell_type": "markdown",
   "metadata": {},
   "source": [
    "-----------------------------------------------------------------"
   ]
  },
  {
   "attachments": {},
   "cell_type": "markdown",
   "metadata": {},
   "source": [
    "## Una vez listo el modelo, toca predecir con el dataset de predicción "
   ]
  },
  {
   "attachments": {},
   "cell_type": "markdown",
   "metadata": {},
   "source": [
    "Definición de **modelo que está listo**. \n",
    "\n",
    "Tras hacer suficientes pruebas, analizar los datos, hacer feature engineering, probar diferentes modelos con diferentes parámetros, es con este con el que observo mejores métricas y menos overfitting. ¡Cuidado con el overfitting aquí! Si vuestro modelo aprende muy bien de estos datos pero hay overfitting cuando le pasemos los datos desconocidos de `test.csv` nos arriesgamos a que digamos, no salga lo esperado."
   ]
  },
  {
   "attachments": {},
   "cell_type": "markdown",
   "metadata": {},
   "source": [
    "### 1. Entrena dicho modelo con TODOS tus datos de train, esto es con `train.csv` al completo.\n",
    "\n",
    "\n",
    "**CON LAS TRANSFORMACIONES QUE LE HAYAS REALIZADO A `X` INCLUÍDAS.**\n",
    "\n",
    "\n",
    "Véase:\n",
    "- Estandarización/Normalización\n",
    "- Eliminación de Outliers\n",
    "- Eliminación de columnas\n",
    "- Creación de columnas nuevas\n",
    "- Gestión de valores nulos\n",
    "- Y un largo etcétera de técnicas que como Data Scientist hayas considerado las mejores para tu dataset."
   ]
  },
  {
   "cell_type": "code",
   "execution_count": null,
   "metadata": {},
   "outputs": [],
   "source": []
  },
  {
   "attachments": {},
   "cell_type": "markdown",
   "metadata": {},
   "source": [
    "### 2. Carga los datos de `test.csv` para predecir."
   ]
  },
  {
   "cell_type": "code",
   "execution_count": null,
   "metadata": {},
   "outputs": [],
   "source": [
    "X_pred = pd.read_csv(\"data/test.csv\")\n",
    "X_pred.head()"
   ]
  },
  {
   "cell_type": "code",
   "execution_count": null,
   "metadata": {},
   "outputs": [],
   "source": [
    "X_pred="
   ]
  },
  {
   "cell_type": "code",
   "execution_count": null,
   "metadata": {},
   "outputs": [],
   "source": [
    "X_pred"
   ]
  },
  {
   "attachments": {},
   "cell_type": "markdown",
   "metadata": {},
   "source": [
    "IMPORTANTE: APLICAR LO MISMO A ESTOS DATOS QUE HAYÁIS APLICADO A LOS DATOS DE ENTRENAMIENTO\n",
    "\n",
    "- SI EL ARRAY CON EL QUE HICISTEIS `.fit()` ERA DE 4 COLUMNAS, PARA `.predict()` DEBEN SER LAS MISMAS\n",
    "- SI AL ARRAY CON EL QUE HICISTEIS `.fit()` LO NORMALIZASTEIS, PARA `.predict()` DEBÉIS NORMALIZARLO\n",
    "- TODO IGUAL SALVO BORRAR FILAS, EL NÚMERO DE ROWS SE DEBE MANTENER EN ESTE SET, PUES LA PREDICCIÓN DEBE TENER 391 FILAS, SI O SI"
   ]
  },
  {
   "attachments": {},
   "cell_type": "markdown",
   "metadata": {},
   "source": [
    "**Entonces, si al cargar los datos de train usé `index_col=0` para que utilizara la primera columna del conjunto de datos como índice, ¿tendré que hacerlo también para el conjunto `test.csv`?**"
   ]
  },
  {
   "cell_type": "code",
   "execution_count": null,
   "metadata": {},
   "outputs": [],
   "source": [
    "# ¿Qué opináis?\n",
    "# Sí"
   ]
  },
  {
   "attachments": {},
   "cell_type": "markdown",
   "metadata": {},
   "source": [
    "![](https://www.tierraljelechu.com/web/img/wiki_up/1.996-SorpresaDto.-1-Red.jpg)"
   ]
  },
  {
   "attachments": {},
   "cell_type": "markdown",
   "metadata": {},
   "source": [
    "### 3. AHORA puedo hacer la predicción que será lo que subirás a Kaggle. "
   ]
  },
  {
   "attachments": {},
   "cell_type": "markdown",
   "metadata": {},
   "source": [
    "**¿Qué es lo que subirás a Kaggle?**"
   ]
  },
  {
   "cell_type": "code",
   "execution_count": null,
   "metadata": {},
   "outputs": [],
   "source": [
    "predictions_submit = model.predict(X_pred)\n",
    "predictions_submit"
   ]
  },
  {
   "attachments": {},
   "cell_type": "markdown",
   "metadata": {},
   "source": [
    "**¡PERO! Para subir a Kaggle la predicción, ésta tendrá que tener una forma específica y no valdrá otra.**\n",
    "\n",
    "En este caso, la **MISMA** forma que `sample_submission.csv`. "
   ]
  },
  {
   "cell_type": "code",
   "execution_count": 5,
   "metadata": {},
   "outputs": [],
   "source": [
    "sample = pd.read_csv(\"data/sample_submission.csv\")"
   ]
  },
  {
   "cell_type": "code",
   "execution_count": 6,
   "metadata": {},
   "outputs": [
    {
     "data": {
      "text/html": [
       "<div>\n",
       "<style scoped>\n",
       "    .dataframe tbody tr th:only-of-type {\n",
       "        vertical-align: middle;\n",
       "    }\n",
       "\n",
       "    .dataframe tbody tr th {\n",
       "        vertical-align: top;\n",
       "    }\n",
       "\n",
       "    .dataframe thead th {\n",
       "        text-align: right;\n",
       "    }\n",
       "</style>\n",
       "<table border=\"1\" class=\"dataframe\">\n",
       "  <thead>\n",
       "    <tr style=\"text-align: right;\">\n",
       "      <th></th>\n",
       "      <th>Id</th>\n",
       "      <th>target</th>\n",
       "    </tr>\n",
       "  </thead>\n",
       "  <tbody>\n",
       "    <tr>\n",
       "      <th>0</th>\n",
       "      <td>15576</td>\n",
       "      <td>0</td>\n",
       "    </tr>\n",
       "    <tr>\n",
       "      <th>1</th>\n",
       "      <td>94308</td>\n",
       "      <td>1</td>\n",
       "    </tr>\n",
       "    <tr>\n",
       "      <th>2</th>\n",
       "      <td>53983</td>\n",
       "      <td>1</td>\n",
       "    </tr>\n",
       "    <tr>\n",
       "      <th>3</th>\n",
       "      <td>61359</td>\n",
       "      <td>1</td>\n",
       "    </tr>\n",
       "    <tr>\n",
       "      <th>4</th>\n",
       "      <td>71383</td>\n",
       "      <td>0</td>\n",
       "    </tr>\n",
       "  </tbody>\n",
       "</table>\n",
       "</div>"
      ],
      "text/plain": [
       "      Id  target\n",
       "0  15576       0\n",
       "1  94308       1\n",
       "2  53983       1\n",
       "3  61359       1\n",
       "4  71383       0"
      ]
     },
     "execution_count": 6,
     "metadata": {},
     "output_type": "execute_result"
    }
   ],
   "source": [
    "sample.head()"
   ]
  },
  {
   "cell_type": "code",
   "execution_count": null,
   "metadata": {},
   "outputs": [],
   "source": [
    "sample.shape"
   ]
  },
  {
   "attachments": {},
   "cell_type": "markdown",
   "metadata": {},
   "source": [
    "### 4. Mete tus predicciones en un dataframe. \n",
    "\n",
    "En este caso, la **MISMA** forma que `sample_submission.csv`. "
   ]
  },
  {
   "cell_type": "code",
   "execution_count": null,
   "metadata": {},
   "outputs": [],
   "source": [
    "submission = pd.DataFrame({\"Id\": sample['laptop_ID'], \"target\": predictions_submit})"
   ]
  },
  {
   "cell_type": "code",
   "execution_count": null,
   "metadata": {},
   "outputs": [],
   "source": [
    "submission.head()"
   ]
  },
  {
   "cell_type": "code",
   "execution_count": null,
   "metadata": {},
   "outputs": [],
   "source": [
    "submission.shape"
   ]
  },
  {
   "attachments": {},
   "cell_type": "markdown",
   "metadata": {},
   "source": [
    "### 5. Pásale el CHEQUEATOR para comprobar que efectivamente está listo para subir a Kaggle."
   ]
  },
  {
   "cell_type": "code",
   "execution_count": null,
   "metadata": {},
   "outputs": [],
   "source": [
    "def chequeator(df_to_submit):\n",
    "    \"\"\"\n",
    "    Esta función se asegura de que tu submission tenga la forma requerida por Kaggle.\n",
    "    \n",
    "    Si es así, se guardará el dataframe en un `csv` y estará listo para subir a Kaggle.\n",
    "    \n",
    "    Si no, LEE EL MENSAJE Y HAZLE CASO.\n",
    "    \n",
    "    Si aún no:\n",
    "    - apaga tu ordenador, \n",
    "    - date una vuelta, \n",
    "    - enciendelo otra vez, \n",
    "    - abre este notebook y \n",
    "    - leelo todo de nuevo. \n",
    "    Todos nos merecemos una segunda oportunidad. También tú.\n",
    "    \"\"\"\n",
    "    if df_to_submit.shape == sample.shape:\n",
    "        if df_to_submit.columns.all() == sample.columns.all():\n",
    "            if df_to_submit.Id.all() == sample.Id.all():\n",
    "                print(\"You're ready to submit!\")\n",
    "                submission.to_csv(\"submission.csv\", index = False) #muy importante el index = False\n",
    "                urllib.request.urlretrieve(\"https://i.kym-cdn.com/photos/images/facebook/000/747/556/27a.jpg\", \"gfg.png\")     \n",
    "                img = Image.open(\"gfg.png\")\n",
    "                img.show()   \n",
    "            else:\n",
    "                print(\"Check the ids and try again\")\n",
    "        else:\n",
    "            print(\"Check the names of the columns and try again\")\n",
    "    else:\n",
    "        print(\"Check the number of rows and/or columns and try again\")\n",
    "        print(\"\\nMensaje secreto de Clara: No me puedo creer que después de todo este notebook hayas hecho algún cambio en las filas de `diamonds_test.csv`. Lloro.\")\n"
   ]
  },
  {
   "cell_type": "code",
   "execution_count": null,
   "metadata": {},
   "outputs": [],
   "source": [
    "chequeator(submission)"
   ]
  },
  {
   "cell_type": "code",
   "execution_count": null,
   "metadata": {},
   "outputs": [],
   "source": []
  }
 ],
 "metadata": {
  "kernelspec": {
   "display_name": "Python 3",
   "language": "python",
   "name": "python3"
  },
  "language_info": {
   "codemirror_mode": {
    "name": "ipython",
    "version": 3
   },
   "file_extension": ".py",
   "mimetype": "text/x-python",
   "name": "python",
   "nbconvert_exporter": "python",
   "pygments_lexer": "ipython3",
   "version": "3.11.5"
  }
 },
 "nbformat": 4,
 "nbformat_minor": 4
}
