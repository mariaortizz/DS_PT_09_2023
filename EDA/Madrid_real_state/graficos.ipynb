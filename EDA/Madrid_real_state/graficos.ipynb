{
 "cells": [
  {
   "cell_type": "code",
   "execution_count": null,
   "metadata": {},
   "outputs": [],
   "source": [
    "fig, axes = plt.subplots(figsize=(20, 50))\n",
    "for i, col  in enumerate(df_cual.columns, 1):\n",
    "    ax = fig.add_subplot(8,3,i)\n",
    "    sns.countplot(data= df_cual.sort_values(by=col), x= col)\n",
    "    ax.set_xticklabels(ax.get_xticklabels(), rotation=90)\n",
    "\n",
    "fig.tight_layout(pad=1);"
   ]
  }
 ],
 "metadata": {
  "language_info": {
   "name": "python"
  }
 },
 "nbformat": 4,
 "nbformat_minor": 2
}
