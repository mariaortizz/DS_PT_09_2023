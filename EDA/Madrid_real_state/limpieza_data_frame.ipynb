{
 "cells": [
  {
   "cell_type": "markdown",
   "metadata": {},
   "source": [
    "# EDA\n",
    "## Vivienda en Madrid"
   ]
  },
  {
   "cell_type": "code",
<<<<<<< HEAD
   "execution_count": 9,
=======
   "execution_count": 164,
>>>>>>> f62b8acb0e143e86dae4879e27dd510687350122
   "metadata": {},
   "outputs": [],
   "source": [
    "import pandas as pd\n",
    "import numpy as np\n",
    "import seaborn as sns\n",
    "import matplotlib.pyplot as plt\n",
    "from scipy import stats\n",
    "import statistics"
   ]
  },
  {
   "cell_type": "code",
<<<<<<< HEAD
   "execution_count": 11,
=======
   "execution_count": 165,
   "metadata": {},
   "outputs": [
    {
     "data": {
      "text/plain": [
       "'d:\\\\Documentos\\\\2.CURSOS\\\\BOOTCAMP\\\\DS_PT_09_2023\\\\EDA\\\\Madrid_real_state'"
      ]
     },
     "execution_count": 165,
     "metadata": {},
     "output_type": "execute_result"
    }
   ],
   "source": [
    "import os\n",
    "os.getcwd()"
   ]
  },
  {
   "cell_type": "code",
   "execution_count": 166,
>>>>>>> f62b8acb0e143e86dae4879e27dd510687350122
   "metadata": {},
   "outputs": [],
   "source": [
    "data = pd.read_csv('houses_Madrid.csv', index_col='Unnamed: 0')\n",
    "data = data.sort_index(axis= 1)"
   ]
  },
  {
   "cell_type": "markdown",
   "metadata": {},
   "source": [
    "Eliminación de las columnas que son nulas o no aportan información relevante al análisis"
   ]
  },
  {
   "cell_type": "code",
<<<<<<< HEAD
   "execution_count": 12,
=======
   "execution_count": 167,
>>>>>>> f62b8acb0e143e86dae4879e27dd510687350122
   "metadata": {},
   "outputs": [
    {
     "data": {
      "text/plain": [
       "Index(['are_pets_allowed', 'built_year', 'buy_price', 'buy_price_by_area',\n",
       "       'door', 'energy_certificate', 'floor', 'has_ac', 'has_balcony',\n",
       "       'has_central_heating', 'has_fitted_wardrobes', 'has_garden',\n",
       "       'has_green_zones', 'has_individual_heating', 'has_lift', 'has_parking',\n",
       "       'has_pool', 'has_private_parking', 'has_public_parking',\n",
       "       'has_storage_room', 'has_terrace', 'house_type_id', 'id',\n",
       "       'is_accessible', 'is_buy_price_known', 'is_exact_address_hidden',\n",
       "       'is_exterior', 'is_floor_under', 'is_furnished', 'is_kitchen_equipped',\n",
       "       'is_new_development', 'is_orientation_east', 'is_orientation_north',\n",
       "       'is_orientation_south', 'is_orientation_west',\n",
       "       'is_parking_included_in_price', 'is_renewal_needed',\n",
       "       'is_rent_price_known', 'latitude', 'longitude', 'n_bathrooms',\n",
       "       'n_floors', 'n_rooms', 'neighborhood_id', 'operation', 'parking_price',\n",
       "       'portal', 'raw_address', 'rent_price', 'rent_price_by_area',\n",
       "       'sq_mt_allotment', 'sq_mt_built', 'sq_mt_useful', 'street_name',\n",
       "       'street_number', 'subtitle', 'title'],\n",
       "      dtype='object')"
      ]
     },
<<<<<<< HEAD
     "execution_count": 12,
=======
     "execution_count": 167,
>>>>>>> f62b8acb0e143e86dae4879e27dd510687350122
     "metadata": {},
     "output_type": "execute_result"
    }
   ],
   "source": [
    "data.columns"
   ]
  },
  {
   "cell_type": "code",
<<<<<<< HEAD
   "execution_count": 13,
=======
   "execution_count": 168,
>>>>>>> f62b8acb0e143e86dae4879e27dd510687350122
   "metadata": {},
   "outputs": [],
   "source": [
    "def nombre_columnas(df):\n",
    "    '''Función para tratar el nombre de las columnas y eliminar las vacias'''\n",
    "    try:\n",
    "        df.drop(columns=['latitude', 'longitude', 'portal', 'door', 'rent_price_by_area', 'are_pets_allowed', 'is_furnished',\n",
    "                    'is_kitchen_equipped', 'has_private_parking', 'has_public_parking', 'sq_mt_useful', 'n_floors', 'has_ac', 'title',\n",
    "                    'sq_mt_allotment', 'raw_address', 'is_exact_address_hidden', 'street_name', 'street_number', 'is_buy_price_known',\n",
<<<<<<< HEAD
    "                    'is_parking_included_in_price', 'is_rent_price_known', 'operation', 'is_new_development', 'parking_price', 'rent_price', 'id',\n",
=======
    "                    'is_parking_included_in_price', 'is_rent_price_known', 'operation', 'is_new_development', 'parking_price', 'rent_price', 'neighborhood_id',\n",
>>>>>>> f62b8acb0e143e86dae4879e27dd510687350122
    "                    'has_central_heating', 'has_individual_heating', 'has_lift', 'is_orientation_east', 'is_orientation_north', 'is_orientation_south', 'is_orientation_west'\n",
    "                    ], axis=1, inplace = True)\n",
    "        \n",
    "        df.columns = ['annio_construccion', 'precio_compra', 'precio_compra_por_area', 'cee',\n",
    "       'piso', 'balcon', 'armarios_empotrados', 'jardin', 'zonas_verdes', \n",
    "       'estacionamiento', 'pileta',\n",
<<<<<<< HEAD
    "       'trastero', 'terraza', 'tipo_inmueble',\n",
    "       'accesible', 'exterior', 'bajo', 'necesita_reforma', 'bannos', 'habitaciones',\n",
    "       'barrio_id', 'metros_cuadrados', 'ubicacion']\n",
    "\n",
=======
    "       'trastero', 'terraza', 'tipo_inmueble', 'id',\n",
    "       'accesible', 'exterior', 'bajo', 'necesita_reforma', 'bannos', 'habitaciones', 'metros_cuadrados', 'ubicacion']\n",
    "        \n",
    "        df['id'] = df['id'].astype(object)\n",
>>>>>>> f62b8acb0e143e86dae4879e27dd510687350122
    "    except Exception as a:\n",
    "        print(f\"No pude tranformar las columnas por {a}\")\n",
    "    return df"
   ]
  },
  {
   "cell_type": "code",
<<<<<<< HEAD
   "execution_count": 14,
=======
   "execution_count": 169,
>>>>>>> f62b8acb0e143e86dae4879e27dd510687350122
   "metadata": {},
   "outputs": [],
   "source": [
    "df = nombre_columnas(data)"
   ]
  },
  {
   "cell_type": "code",
<<<<<<< HEAD
   "execution_count": 15,
=======
   "execution_count": 170,
>>>>>>> f62b8acb0e143e86dae4879e27dd510687350122
   "metadata": {},
   "outputs": [
    {
     "name": "stdout",
     "output_type": "stream",
     "text": [
      "<class 'pandas.core.frame.DataFrame'>\n",
      "Index: 21742 entries, 0 to 21741\n",
      "Data columns (total 23 columns):\n",
      " #   Column                  Non-Null Count  Dtype  \n",
      "---  ------                  --------------  -----  \n",
      " 0   annio_construccion      10000 non-null  float64\n",
      " 1   precio_compra           21742 non-null  int64  \n",
      " 2   precio_compra_por_area  21742 non-null  int64  \n",
      " 3   cee                     21742 non-null  object \n",
      " 4   piso                    19135 non-null  object \n",
      " 5   balcon                  3321 non-null   object \n",
      " 6   armarios_empotrados     13399 non-null  object \n",
      " 7   jardin                  1556 non-null   object \n",
      " 8   zonas_verdes            4057 non-null   object \n",
      " 9   estacionamiento         21742 non-null  bool   \n",
      " 10  pileta                  5171 non-null   object \n",
      " 11  trastero                7698 non-null   object \n",
      " 12  terraza                 9548 non-null   object \n",
      " 13  tipo_inmueble           21351 non-null  object \n",
<<<<<<< HEAD
      " 14  accesible               4074 non-null   object \n",
      " 15  exterior                18699 non-null  object \n",
      " 16  bajo                    20572 non-null  object \n",
      " 17  necesita_reforma        21742 non-null  bool   \n",
      " 18  bannos                  21726 non-null  float64\n",
      " 19  habitaciones            21742 non-null  int64  \n",
      " 20  barrio_id               21742 non-null  object \n",
=======
      " 14  id                      21742 non-null  object \n",
      " 15  accesible               4074 non-null   object \n",
      " 16  exterior                18699 non-null  object \n",
      " 17  bajo                    20572 non-null  object \n",
      " 18  necesita_reforma        21742 non-null  bool   \n",
      " 19  bannos                  21726 non-null  float64\n",
      " 20  habitaciones            21742 non-null  int64  \n",
>>>>>>> f62b8acb0e143e86dae4879e27dd510687350122
      " 21  metros_cuadrados        21616 non-null  float64\n",
      " 22  ubicacion               21742 non-null  object \n",
      "dtypes: bool(2), float64(3), int64(3), object(15)\n",
      "memory usage: 3.7+ MB\n"
     ]
    }
   ],
   "source": [
    "df.info()"
   ]
  },
  {
   "cell_type": "code",
<<<<<<< HEAD
   "execution_count": 19,
   "metadata": {},
   "outputs": [
    {
     "data": {
      "text/html": [
       "<div>\n",
       "<style scoped>\n",
       "    .dataframe tbody tr th:only-of-type {\n",
       "        vertical-align: middle;\n",
       "    }\n",
       "\n",
       "    .dataframe tbody tr th {\n",
       "        vertical-align: top;\n",
       "    }\n",
       "\n",
       "    .dataframe thead th {\n",
       "        text-align: right;\n",
       "    }\n",
       "</style>\n",
       "<table border=\"1\" class=\"dataframe\">\n",
       "  <thead>\n",
       "    <tr style=\"text-align: right;\">\n",
       "      <th></th>\n",
       "      <th>annio_construccion</th>\n",
       "      <th>precio_compra</th>\n",
       "      <th>precio_compra_por_area</th>\n",
       "      <th>cee</th>\n",
       "      <th>piso</th>\n",
       "      <th>balcon</th>\n",
       "      <th>armarios_empotrados</th>\n",
       "      <th>jardin</th>\n",
       "      <th>zonas_verdes</th>\n",
       "      <th>estacionamiento</th>\n",
       "      <th>...</th>\n",
       "      <th>tipo_inmueble</th>\n",
       "      <th>accesible</th>\n",
       "      <th>exterior</th>\n",
       "      <th>bajo</th>\n",
       "      <th>necesita_reforma</th>\n",
       "      <th>bannos</th>\n",
       "      <th>habitaciones</th>\n",
       "      <th>barrio_id</th>\n",
       "      <th>metros_cuadrados</th>\n",
       "      <th>ubicacion</th>\n",
       "    </tr>\n",
       "  </thead>\n",
       "  <tbody>\n",
       "    <tr>\n",
       "      <th>count</th>\n",
       "      <td>10000.000000</td>\n",
       "      <td>2.174200e+04</td>\n",
       "      <td>21742.000000</td>\n",
       "      <td>21742</td>\n",
       "      <td>19135</td>\n",
       "      <td>3321</td>\n",
       "      <td>13399</td>\n",
       "      <td>1556</td>\n",
       "      <td>4057</td>\n",
       "      <td>21742</td>\n",
       "      <td>...</td>\n",
       "      <td>21351</td>\n",
       "      <td>4074</td>\n",
       "      <td>18699</td>\n",
       "      <td>20572</td>\n",
       "      <td>21742</td>\n",
       "      <td>21726.000000</td>\n",
       "      <td>21742.000000</td>\n",
       "      <td>21742</td>\n",
       "      <td>21616.000000</td>\n",
       "      <td>21742</td>\n",
       "    </tr>\n",
       "    <tr>\n",
       "      <th>unique</th>\n",
       "      <td>NaN</td>\n",
       "      <td>NaN</td>\n",
       "      <td>NaN</td>\n",
       "      <td>10</td>\n",
       "      <td>19</td>\n",
       "      <td>1</td>\n",
       "      <td>1</td>\n",
       "      <td>1</td>\n",
       "      <td>1</td>\n",
       "      <td>2</td>\n",
       "      <td>...</td>\n",
       "      <td>4</td>\n",
       "      <td>1</td>\n",
       "      <td>2</td>\n",
       "      <td>2</td>\n",
       "      <td>2</td>\n",
       "      <td>NaN</td>\n",
       "      <td>NaN</td>\n",
       "      <td>126</td>\n",
       "      <td>NaN</td>\n",
       "      <td>146</td>\n",
       "    </tr>\n",
       "    <tr>\n",
       "      <th>top</th>\n",
       "      <td>NaN</td>\n",
       "      <td>NaN</td>\n",
       "      <td>NaN</td>\n",
       "      <td>en trámite</td>\n",
       "      <td>1</td>\n",
       "      <td>True</td>\n",
       "      <td>True</td>\n",
       "      <td>True</td>\n",
       "      <td>True</td>\n",
       "      <td>False</td>\n",
       "      <td>...</td>\n",
       "      <td>HouseType 1: Pisos</td>\n",
       "      <td>True</td>\n",
       "      <td>True</td>\n",
       "      <td>False</td>\n",
       "      <td>False</td>\n",
       "      <td>NaN</td>\n",
       "      <td>NaN</td>\n",
       "      <td>Neighborhood 23: Malasaña-Universidad (5196.25...</td>\n",
       "      <td>NaN</td>\n",
       "      <td>Chamartín, Madrid</td>\n",
       "    </tr>\n",
       "    <tr>\n",
       "      <th>freq</th>\n",
       "      <td>NaN</td>\n",
       "      <td>NaN</td>\n",
       "      <td>NaN</td>\n",
       "      <td>10937</td>\n",
       "      <td>4440</td>\n",
       "      <td>3321</td>\n",
       "      <td>13399</td>\n",
       "      <td>1556</td>\n",
       "      <td>4057</td>\n",
       "      <td>14023</td>\n",
       "      <td>...</td>\n",
       "      <td>17705</td>\n",
       "      <td>4074</td>\n",
       "      <td>16922</td>\n",
       "      <td>18033</td>\n",
       "      <td>17747</td>\n",
       "      <td>NaN</td>\n",
       "      <td>NaN</td>\n",
       "      <td>485</td>\n",
       "      <td>NaN</td>\n",
       "      <td>851</td>\n",
       "    </tr>\n",
       "    <tr>\n",
       "      <th>mean</th>\n",
       "      <td>1970.046400</td>\n",
       "      <td>6.537356e+05</td>\n",
       "      <td>4020.523871</td>\n",
       "      <td>NaN</td>\n",
       "      <td>NaN</td>\n",
       "      <td>NaN</td>\n",
       "      <td>NaN</td>\n",
       "      <td>NaN</td>\n",
       "      <td>NaN</td>\n",
       "      <td>NaN</td>\n",
       "      <td>...</td>\n",
       "      <td>NaN</td>\n",
       "      <td>NaN</td>\n",
       "      <td>NaN</td>\n",
       "      <td>NaN</td>\n",
       "      <td>NaN</td>\n",
       "      <td>2.091687</td>\n",
       "      <td>3.005749</td>\n",
       "      <td>NaN</td>\n",
       "      <td>146.920892</td>\n",
       "      <td>NaN</td>\n",
       "    </tr>\n",
       "    <tr>\n",
       "      <th>std</th>\n",
       "      <td>69.386705</td>\n",
       "      <td>7.820821e+05</td>\n",
       "      <td>1908.418774</td>\n",
       "      <td>NaN</td>\n",
       "      <td>NaN</td>\n",
       "      <td>NaN</td>\n",
       "      <td>NaN</td>\n",
       "      <td>NaN</td>\n",
       "      <td>NaN</td>\n",
       "      <td>NaN</td>\n",
       "      <td>...</td>\n",
       "      <td>NaN</td>\n",
       "      <td>NaN</td>\n",
       "      <td>NaN</td>\n",
       "      <td>NaN</td>\n",
       "      <td>NaN</td>\n",
       "      <td>1.406992</td>\n",
       "      <td>1.510497</td>\n",
       "      <td>NaN</td>\n",
       "      <td>134.181865</td>\n",
       "      <td>NaN</td>\n",
       "    </tr>\n",
       "    <tr>\n",
       "      <th>min</th>\n",
       "      <td>1723.000000</td>\n",
       "      <td>3.600000e+04</td>\n",
       "      <td>447.000000</td>\n",
       "      <td>NaN</td>\n",
       "      <td>NaN</td>\n",
       "      <td>NaN</td>\n",
       "      <td>NaN</td>\n",
       "      <td>NaN</td>\n",
       "      <td>NaN</td>\n",
       "      <td>NaN</td>\n",
       "      <td>...</td>\n",
       "      <td>NaN</td>\n",
       "      <td>NaN</td>\n",
       "      <td>NaN</td>\n",
       "      <td>NaN</td>\n",
       "      <td>NaN</td>\n",
       "      <td>1.000000</td>\n",
       "      <td>0.000000</td>\n",
       "      <td>NaN</td>\n",
       "      <td>13.000000</td>\n",
       "      <td>NaN</td>\n",
       "    </tr>\n",
       "    <tr>\n",
       "      <th>25%</th>\n",
       "      <td>1957.000000</td>\n",
       "      <td>1.980000e+05</td>\n",
       "      <td>2551.000000</td>\n",
       "      <td>NaN</td>\n",
       "      <td>NaN</td>\n",
       "      <td>NaN</td>\n",
       "      <td>NaN</td>\n",
       "      <td>NaN</td>\n",
       "      <td>NaN</td>\n",
       "      <td>NaN</td>\n",
       "      <td>...</td>\n",
       "      <td>NaN</td>\n",
       "      <td>NaN</td>\n",
       "      <td>NaN</td>\n",
       "      <td>NaN</td>\n",
       "      <td>NaN</td>\n",
       "      <td>1.000000</td>\n",
       "      <td>2.000000</td>\n",
       "      <td>NaN</td>\n",
       "      <td>70.000000</td>\n",
       "      <td>NaN</td>\n",
       "    </tr>\n",
       "    <tr>\n",
       "      <th>50%</th>\n",
       "      <td>1970.000000</td>\n",
       "      <td>3.750000e+05</td>\n",
       "      <td>3720.000000</td>\n",
       "      <td>NaN</td>\n",
       "      <td>NaN</td>\n",
       "      <td>NaN</td>\n",
       "      <td>NaN</td>\n",
       "      <td>NaN</td>\n",
       "      <td>NaN</td>\n",
       "      <td>NaN</td>\n",
       "      <td>...</td>\n",
       "      <td>NaN</td>\n",
       "      <td>NaN</td>\n",
       "      <td>NaN</td>\n",
       "      <td>NaN</td>\n",
       "      <td>NaN</td>\n",
       "      <td>2.000000</td>\n",
       "      <td>3.000000</td>\n",
       "      <td>NaN</td>\n",
       "      <td>100.000000</td>\n",
       "      <td>NaN</td>\n",
       "    </tr>\n",
       "    <tr>\n",
       "      <th>75%</th>\n",
       "      <td>1994.000000</td>\n",
       "      <td>7.636000e+05</td>\n",
       "      <td>5000.000000</td>\n",
       "      <td>NaN</td>\n",
       "      <td>NaN</td>\n",
       "      <td>NaN</td>\n",
       "      <td>NaN</td>\n",
       "      <td>NaN</td>\n",
       "      <td>NaN</td>\n",
       "      <td>NaN</td>\n",
       "      <td>...</td>\n",
       "      <td>NaN</td>\n",
       "      <td>NaN</td>\n",
       "      <td>NaN</td>\n",
       "      <td>NaN</td>\n",
       "      <td>NaN</td>\n",
       "      <td>2.000000</td>\n",
       "      <td>4.000000</td>\n",
       "      <td>NaN</td>\n",
       "      <td>162.000000</td>\n",
       "      <td>NaN</td>\n",
       "    </tr>\n",
       "    <tr>\n",
       "      <th>max</th>\n",
       "      <td>8170.000000</td>\n",
       "      <td>8.800000e+06</td>\n",
       "      <td>18889.000000</td>\n",
       "      <td>NaN</td>\n",
       "      <td>NaN</td>\n",
       "      <td>NaN</td>\n",
       "      <td>NaN</td>\n",
       "      <td>NaN</td>\n",
       "      <td>NaN</td>\n",
       "      <td>NaN</td>\n",
       "      <td>...</td>\n",
       "      <td>NaN</td>\n",
       "      <td>NaN</td>\n",
       "      <td>NaN</td>\n",
       "      <td>NaN</td>\n",
       "      <td>NaN</td>\n",
       "      <td>16.000000</td>\n",
       "      <td>24.000000</td>\n",
       "      <td>NaN</td>\n",
       "      <td>999.000000</td>\n",
       "      <td>NaN</td>\n",
       "    </tr>\n",
       "  </tbody>\n",
       "</table>\n",
       "<p>11 rows × 23 columns</p>\n",
       "</div>"
      ],
      "text/plain": [
       "        annio_construccion  precio_compra  precio_compra_por_area         cee  \\\n",
       "count         10000.000000   2.174200e+04            21742.000000       21742   \n",
       "unique                 NaN            NaN                     NaN          10   \n",
       "top                    NaN            NaN                     NaN  en trámite   \n",
       "freq                   NaN            NaN                     NaN       10937   \n",
       "mean           1970.046400   6.537356e+05             4020.523871         NaN   \n",
       "std              69.386705   7.820821e+05             1908.418774         NaN   \n",
       "min            1723.000000   3.600000e+04              447.000000         NaN   \n",
       "25%            1957.000000   1.980000e+05             2551.000000         NaN   \n",
       "50%            1970.000000   3.750000e+05             3720.000000         NaN   \n",
       "75%            1994.000000   7.636000e+05             5000.000000         NaN   \n",
       "max            8170.000000   8.800000e+06            18889.000000         NaN   \n",
       "\n",
       "         piso balcon armarios_empotrados jardin zonas_verdes estacionamiento  \\\n",
       "count   19135   3321               13399   1556         4057           21742   \n",
       "unique     19      1                   1      1            1               2   \n",
       "top         1   True                True   True         True           False   \n",
       "freq     4440   3321               13399   1556         4057           14023   \n",
       "mean      NaN    NaN                 NaN    NaN          NaN             NaN   \n",
       "std       NaN    NaN                 NaN    NaN          NaN             NaN   \n",
       "min       NaN    NaN                 NaN    NaN          NaN             NaN   \n",
       "25%       NaN    NaN                 NaN    NaN          NaN             NaN   \n",
       "50%       NaN    NaN                 NaN    NaN          NaN             NaN   \n",
       "75%       NaN    NaN                 NaN    NaN          NaN             NaN   \n",
       "max       NaN    NaN                 NaN    NaN          NaN             NaN   \n",
       "\n",
       "        ...       tipo_inmueble accesible exterior   bajo necesita_reforma  \\\n",
       "count   ...               21351      4074    18699  20572            21742   \n",
       "unique  ...                   4         1        2      2                2   \n",
       "top     ...  HouseType 1: Pisos      True     True  False            False   \n",
       "freq    ...               17705      4074    16922  18033            17747   \n",
       "mean    ...                 NaN       NaN      NaN    NaN              NaN   \n",
       "std     ...                 NaN       NaN      NaN    NaN              NaN   \n",
       "min     ...                 NaN       NaN      NaN    NaN              NaN   \n",
       "25%     ...                 NaN       NaN      NaN    NaN              NaN   \n",
       "50%     ...                 NaN       NaN      NaN    NaN              NaN   \n",
       "75%     ...                 NaN       NaN      NaN    NaN              NaN   \n",
       "max     ...                 NaN       NaN      NaN    NaN              NaN   \n",
       "\n",
       "              bannos  habitaciones  \\\n",
       "count   21726.000000  21742.000000   \n",
       "unique           NaN           NaN   \n",
       "top              NaN           NaN   \n",
       "freq             NaN           NaN   \n",
       "mean        2.091687      3.005749   \n",
       "std         1.406992      1.510497   \n",
       "min         1.000000      0.000000   \n",
       "25%         1.000000      2.000000   \n",
       "50%         2.000000      3.000000   \n",
       "75%         2.000000      4.000000   \n",
       "max        16.000000     24.000000   \n",
       "\n",
       "                                                barrio_id  metros_cuadrados  \\\n",
       "count                                               21742      21616.000000   \n",
       "unique                                                126               NaN   \n",
       "top     Neighborhood 23: Malasaña-Universidad (5196.25...               NaN   \n",
       "freq                                                  485               NaN   \n",
       "mean                                                  NaN        146.920892   \n",
       "std                                                   NaN        134.181865   \n",
       "min                                                   NaN         13.000000   \n",
       "25%                                                   NaN         70.000000   \n",
       "50%                                                   NaN        100.000000   \n",
       "75%                                                   NaN        162.000000   \n",
       "max                                                   NaN        999.000000   \n",
       "\n",
       "                ubicacion  \n",
       "count               21742  \n",
       "unique                146  \n",
       "top     Chamartín, Madrid  \n",
       "freq                  851  \n",
       "mean                  NaN  \n",
       "std                   NaN  \n",
       "min                   NaN  \n",
       "25%                   NaN  \n",
       "50%                   NaN  \n",
       "75%                   NaN  \n",
       "max                   NaN  \n",
       "\n",
       "[11 rows x 23 columns]"
      ]
     },
     "execution_count": 19,
     "metadata": {},
     "output_type": "execute_result"
    }
   ],
   "source": [
    "df.describe(include = 'all')"
   ]
=======
   "execution_count": null,
   "metadata": {},
   "outputs": [],
   "source": []
>>>>>>> f62b8acb0e143e86dae4879e27dd510687350122
  },
  {
   "cell_type": "markdown",
   "metadata": {},
   "source": [
    "## Analisis Univariante"
   ]
  },
  {
   "cell_type": "markdown",
   "metadata": {},
   "source": [
    "##### Variables Cuantitativas"
   ]
  },
  {
   "cell_type": "code",
<<<<<<< HEAD
   "execution_count": 8,
   "metadata": {},
   "outputs": [
    {
     "data": {
      "text/html": [
       "<div>\n",
       "<style scoped>\n",
       "    .dataframe tbody tr th:only-of-type {\n",
       "        vertical-align: middle;\n",
       "    }\n",
       "\n",
       "    .dataframe tbody tr th {\n",
       "        vertical-align: top;\n",
       "    }\n",
       "\n",
       "    .dataframe thead th {\n",
       "        text-align: right;\n",
       "    }\n",
       "</style>\n",
       "<table border=\"1\" class=\"dataframe\">\n",
       "  <thead>\n",
       "    <tr style=\"text-align: right;\">\n",
       "      <th></th>\n",
       "      <th>annio_construccion</th>\n",
       "      <th>precio_compra</th>\n",
       "      <th>precio_compra_por_area</th>\n",
       "      <th>bannos</th>\n",
       "      <th>habitaciones</th>\n",
       "      <th>metros_cuadrados</th>\n",
       "    </tr>\n",
       "  </thead>\n",
       "  <tbody>\n",
       "    <tr>\n",
       "      <th>count</th>\n",
       "      <td>10000.000000</td>\n",
       "      <td>2.174200e+04</td>\n",
       "      <td>21742.000000</td>\n",
       "      <td>21726.000000</td>\n",
       "      <td>21742.000000</td>\n",
       "      <td>21616.000000</td>\n",
       "    </tr>\n",
       "    <tr>\n",
       "      <th>mean</th>\n",
       "      <td>1970.046400</td>\n",
       "      <td>6.537356e+05</td>\n",
       "      <td>4020.523871</td>\n",
       "      <td>2.091687</td>\n",
       "      <td>3.005749</td>\n",
       "      <td>146.920892</td>\n",
       "    </tr>\n",
       "    <tr>\n",
       "      <th>std</th>\n",
       "      <td>69.386705</td>\n",
       "      <td>7.820821e+05</td>\n",
       "      <td>1908.418774</td>\n",
       "      <td>1.406992</td>\n",
       "      <td>1.510497</td>\n",
       "      <td>134.181865</td>\n",
       "    </tr>\n",
       "    <tr>\n",
       "      <th>min</th>\n",
       "      <td>1723.000000</td>\n",
       "      <td>3.600000e+04</td>\n",
       "      <td>447.000000</td>\n",
       "      <td>1.000000</td>\n",
       "      <td>0.000000</td>\n",
       "      <td>13.000000</td>\n",
       "    </tr>\n",
       "    <tr>\n",
       "      <th>25%</th>\n",
       "      <td>1957.000000</td>\n",
       "      <td>1.980000e+05</td>\n",
       "      <td>2551.000000</td>\n",
       "      <td>1.000000</td>\n",
       "      <td>2.000000</td>\n",
       "      <td>70.000000</td>\n",
       "    </tr>\n",
       "    <tr>\n",
       "      <th>50%</th>\n",
       "      <td>1970.000000</td>\n",
       "      <td>3.750000e+05</td>\n",
       "      <td>3720.000000</td>\n",
       "      <td>2.000000</td>\n",
       "      <td>3.000000</td>\n",
       "      <td>100.000000</td>\n",
       "    </tr>\n",
       "    <tr>\n",
       "      <th>75%</th>\n",
       "      <td>1994.000000</td>\n",
       "      <td>7.636000e+05</td>\n",
       "      <td>5000.000000</td>\n",
       "      <td>2.000000</td>\n",
       "      <td>4.000000</td>\n",
       "      <td>162.000000</td>\n",
       "    </tr>\n",
       "    <tr>\n",
       "      <th>max</th>\n",
       "      <td>8170.000000</td>\n",
       "      <td>8.800000e+06</td>\n",
       "      <td>18889.000000</td>\n",
       "      <td>16.000000</td>\n",
       "      <td>24.000000</td>\n",
       "      <td>999.000000</td>\n",
       "    </tr>\n",
       "  </tbody>\n",
       "</table>\n",
       "</div>"
      ],
      "text/plain": [
       "       annio_construccion  precio_compra  precio_compra_por_area  \\\n",
       "count        10000.000000   2.174200e+04            21742.000000   \n",
       "mean          1970.046400   6.537356e+05             4020.523871   \n",
       "std             69.386705   7.820821e+05             1908.418774   \n",
       "min           1723.000000   3.600000e+04              447.000000   \n",
       "25%           1957.000000   1.980000e+05             2551.000000   \n",
       "50%           1970.000000   3.750000e+05             3720.000000   \n",
       "75%           1994.000000   7.636000e+05             5000.000000   \n",
       "max           8170.000000   8.800000e+06            18889.000000   \n",
       "\n",
       "             bannos  habitaciones  metros_cuadrados  \n",
       "count  21726.000000  21742.000000      21616.000000  \n",
       "mean       2.091687      3.005749        146.920892  \n",
       "std        1.406992      1.510497        134.181865  \n",
       "min        1.000000      0.000000         13.000000  \n",
       "25%        1.000000      2.000000         70.000000  \n",
       "50%        2.000000      3.000000        100.000000  \n",
       "75%        2.000000      4.000000        162.000000  \n",
       "max       16.000000     24.000000        999.000000  "
      ]
     },
     "execution_count": 8,
     "metadata": {},
     "output_type": "execute_result"
    }
   ],
=======
   "execution_count": null,
   "metadata": {},
   "outputs": [],
>>>>>>> f62b8acb0e143e86dae4879e27dd510687350122
   "source": [
    "df_cuant = df.select_dtypes(include='number')\n",
    "df_cuant.describe()"
   ]
  },
  {
   "cell_type": "code",
   "execution_count": null,
   "metadata": {},
   "outputs": [],
   "source": [
    "def graficos_variables_cuant(data):\n",
    "    ''''Funcuion para graficar las variables cuantitativas'''\n",
    "    try:\n",
    "        for columna in data.columns:\n",
    "            print('--'*30)\n",
    "            print(f\"VARIABLE: {columna}\\n\")\n",
    "\n",
    "            plt.figure(figsize=(20,4))\n",
    "            sns.boxplot(data[columna], orient='h');\n",
    "            plt.show()\n",
    "\n",
    "            sns.displot(data[columna], rug = True);\n",
    "            plt.show()\n",
    "\n",
    "            print(data[columna].describe())\n",
    "            print('--'*30)\n",
    "    except Exception as a:\n",
    "        print(f\"No puedo analizar la variable por este error {a}\")"
   ]
  },
  {
   "cell_type": "code",
   "execution_count": null,
   "metadata": {},
   "outputs": [],
   "source": [
    "graficos_variables_cuant(df_cuant)"
   ]
  },
  {
   "cell_type": "markdown",
   "metadata": {},
   "source": [
    "##### Variables Cualitativas"
   ]
  },
  {
   "cell_type": "code",
   "execution_count": null,
   "metadata": {},
   "outputs": [],
   "source": [
    "df_cual = df.select_dtypes(exclude= 'number').drop('id', axis=1)"
   ]
  },
  {
   "cell_type": "code",
   "execution_count": null,
   "metadata": {},
   "outputs": [],
   "source": [
    "def graficos_variables_cualit(data):\n",
    "    ''''Funcuion para graficar las variables cualitativas'''\n",
    "    try:\n",
    "        for columna in data.columns:\n",
    "            print('--'*30)\n",
    "            print(f\"VARIABLE: {columna}\\n\")\n",
    "            if len(df[columna].dropna().unique()) > 1:\n",
    "                ax = sns.countplot(data= data.sort_values(by=columna), x= columna)\n",
    "                ax.set_xticklabels(df[columna].sort_values().unique(), rotation=90)\n",
    "                #se superponen los valores porque me da uns advertencia al aplicar este parametro, no sé como sacarla :)\n",
    "                plt.title(f\"Conteo variable {columna}\")\n",
    "                plt.show();\n",
    "            else:\n",
    "                print('No es necesario graficar porque tiene un solo valor dentro de la columna')\n",
    "            print(data[columna].value_counts())\n",
    "            print('--'*30)\n",
    "    except Exception as a:\n",
    "        print(f\"No puedo analizar la variable por este error {a}\")"
   ]
  },
  {
   "cell_type": "code",
   "execution_count": null,
   "metadata": {},
   "outputs": [],
   "source": [
    "graficos_variables_cualit(df_cual)"
   ]
  },
  {
   "cell_type": "markdown",
   "metadata": {},
   "source": [
    "## Limpieza de datos"
   ]
  },
  {
   "cell_type": "code",
   "execution_count": null,
   "metadata": {},
   "outputs": [],
   "source": [
    "def rellenar_columnas_F(data):\n",
    "    ''' Función que rellena las columnas que tienen valor true y nan'''\n",
    "    try:\n",
    "        df['zonas_verdes'].replace(np.nan, False,inplace=True)\n",
    "        df['balcon'].replace(np.nan, False,inplace=True)\n",
    "        df['armarios_empotrados'].replace(np.nan, False,inplace=True)\n",
    "        df['jardin'].replace(np.nan, False,inplace=True)\n",
    "        df['pileta'].replace(np.nan, False,inplace=True)\n",
    "        df['trastero'].replace(np.nan, False,inplace=True)\n",
    "        df['terraza'].replace(np.nan, False,inplace=True)\n",
    "        df['accesible'].replace(np.nan, False,inplace=True)\n",
    "    except Exception as a:\n",
    "        print(f\"No pude rellenar las columnas por {a}\")\n",
    "    return data"
   ]
  },
  {
   "cell_type": "code",
   "execution_count": null,
   "metadata": {},
   "outputs": [],
   "source": [
    "df = rellenar_columnas_F(df)"
   ]
  },
  {
   "cell_type": "code",
   "execution_count": null,
   "metadata": {},
   "outputs": [],
   "source": [
    "df.info()"
   ]
  },
  {
   "cell_type": "code",
   "execution_count": null,
   "metadata": {},
   "outputs": [],
   "source": [
    "def rellenar_annios_nulos_necesitan_reforma(df):\n",
    "    '''Función para rellenar los annios que vienen nulos'''\n",
    "    try:\n",
    "        #diccionario para ver si tenemos todos las ubicaciones o no\n",
    "        dicc_annios_antiguos = df[(df['necesita_reforma'] == True) & (df['annio_construccion'].notna())].groupby('ubicacion')[['annio_construccion']].mean(numeric_only = True).astype(int).reset_index().to_dict('records')\n",
    "        \n",
    "        #agrega las ubicaciones que no existen, asignando la media de los inmuebles que necesitan reforma\n",
    "        dicc_annios_antiguos = dicc_annios_antiguos + [{'ubicacion': 'Horcajo, Madrid', 'annio_construccion': 1957}, \n",
    "                   {'ubicacion': 'Valdebebas - Valdefuentes, Madrid', 'annio_construccion': 1957},\n",
    "                   {'ubicacion': 'Virgen del Cortijo - Manoteras, Madrid', 'annio_construccion': 1957}]\n",
    "        \n",
    "        df_annios_antiguos = pd.DataFrame(dicc_annios_antiguos)\n",
    "        df_unido = pd.merge(df,df_annios_antiguos, on='ubicacion', how = 'left')\n",
    "\n",
    "        #asigna el valor de el annio en base a la la ubicacion\n",
    "        df_unido['annio_construccion'] = df_unido.apply(lambda x: x.annio_construccion_y if ((x.necesita_reforma == True) & (pd.isna(x.annio_construccion_x))) else x.annio_construccion_x, axis = 1)\n",
    "\n",
    "        df = df_unido.drop(columns=['annio_construccion_y', 'annio_construccion_x'], axis = 1)\n",
    "    \n",
    "    except Exception as a:\n",
    "        print(f\"No pude transformar el df por {a}\")\n",
    "\n",
    "    return df\n"
   ]
  },
  {
   "cell_type": "code",
   "execution_count": null,
   "metadata": {},
   "outputs": [],
   "source": [
    "def rellenar_annios_nulos_no_necesitan_reforma(df):\n",
    "    '''Función para rellenar los annios que vienen nulos'''\n",
    "    try:\n",
    "        #diccionario para ver si tenemos todos las ubicaciones o no\n",
    "        dicc_annios_nuevo = df[(df['necesita_reforma'] == False) & (df['annio_construccion'].notna())].groupby('ubicacion')[['annio_construccion']].mean(numeric_only = True).astype(int).reset_index().to_dict('records')\n",
    "        \n",
    "        #agrega las ubicaciones que no existen, asignando la media de los inmuebles que no necesitan reforma\n",
    "        dicc_annios_nuevo = dicc_annios_nuevo + [{'ubicacion': 'Cuatro Vientos, Madrid', 'annio_construccion': 1973}]\n",
    "        \n",
    "        df_annios_nuevo = pd.DataFrame(dicc_annios_nuevo)\n",
    "        df_unido_nuevo = pd.merge(df,df_annios_nuevo, on='ubicacion', how='left')\n",
    "\n",
    "        #asigna el valor de el annio en base a la la ubicacion\n",
    "        df_unido_nuevo['annio_construccion'] = df_unido_nuevo.apply(lambda x: x.annio_construccion_y if ((x.necesita_reforma == False) & (pd.isna(x.annio_construccion_x))) else x.annio_construccion_x, axis = 1)\n",
    "\n",
    "        df = df_unido_nuevo.drop(columns=['annio_construccion_x', 'annio_construccion_y'], axis = 1)\n",
    "    \n",
    "    except Exception as a:\n",
    "        print(f\"No pude transformar el df por {a}\")\n",
    "\n",
    "    return df"
   ]
  },
  {
   "cell_type": "code",
   "execution_count": null,
   "metadata": {},
   "outputs": [],
   "source": [
    "df[df['annio_construccion'] == df['annio_construccion'].max()]"
   ]
  },
  {
   "cell_type": "code",
   "execution_count": null,
   "metadata": {},
   "outputs": [],
   "source": [
    "media_año_barrio_s = df[(df['ubicacion'] == 'Barrio de Salamanca, Madrid') & (df['annio_construccion'].notna())].groupby('ubicacion')['annio_construccion'].mean(numeric_only = True).astype(int)\n",
    "media_año_barrio_s"
   ]
  },
  {
   "cell_type": "code",
   "execution_count": null,
   "metadata": {},
   "outputs": [],
   "source": [
    "df['annio_construccion'].replace(8170.0, 1979, inplace= True)"
   ]
  },
  {
   "cell_type": "code",
   "execution_count": null,
   "metadata": {},
   "outputs": [],
   "source": [
    "df = rellenar_annios_nulos_necesitan_reforma(df)\n",
    "df = rellenar_annios_nulos_no_necesitan_reforma(df)"
   ]
  },
  {
   "cell_type": "code",
   "execution_count": null,
   "metadata": {},
   "outputs": [],
   "source": [
    "def rellenar_pisos_nulos(df):\n",
    "    '''Funcion para rellenar los valores nulos de los pisos, con la moda segun la ubicacion'''\n",
    "    try:\n",
    "        #df el piso que más se repite, respetando las alturas por ubicacion segun normativa\n",
    "        df_piso_más_comun = df[df['piso'].notna()].groupby(['ubicacion', 'piso'], as_index=False).count()[['ubicacion', 'piso']].groupby('ubicacion', as_index=False).max()\n",
    "\n",
    "        df_unido_pisos = pd.merge(df,df_piso_más_comun, on='ubicacion', how= 'inner')\n",
    "\n",
    "        df_unido_pisos['piso'] = df_unido_pisos.apply(lambda x: x.piso_y if pd.isna(x.piso_x) else x.piso_x, axis = 1)\n",
    "\n",
    "        df = df_unido_pisos.drop(columns=['piso_x', 'piso_y'], axis = 1)\n",
    "    except Exception as a:\n",
    "        print(f\"No pude transformar el df por {a}\")\n",
    "    return df"
   ]
  },
  {
   "cell_type": "code",
   "execution_count": null,
   "metadata": {},
   "outputs": [],
   "source": [
    "df = rellenar_pisos_nulos(df)"
   ]
  },
  {
   "cell_type": "code",
   "execution_count": null,
   "metadata": {},
   "outputs": [],
   "source": [
    "def rellenar_bajos_nulos(df):\n",
    "    '''Funcion que rellena los valores nulos en la columna bajo en base al piso en el que se encuentra'''\n",
    "    try:\n",
    "        bajos = ('Semi-sótano', 'Entreplanta interior', 'Entreplanta', 'Semi-sótano exterior', 'Semi-sótano interior', 'Sótano interior', 'Sótano', 'Sótano exterior')\n",
    "\n",
    "        df['bajo'] = df['piso'].apply(lambda x: True if x in bajos else False)\n",
    "\n",
    "    except Exception as a:\n",
    "        print(f\"No puse tranformar el df por {a}\")\n",
    "    \n",
    "    return df"
   ]
  },
  {
   "cell_type": "code",
   "execution_count": null,
   "metadata": {},
   "outputs": [],
   "source": [
    "df = rellenar_bajos_nulos(df)"
   ]
  },
  {
   "cell_type": "code",
   "execution_count": null,
   "metadata": {},
   "outputs": [],
   "source": [
    "def sacar_metros_cuadrados_nuevos(df):\n",
    "    ''''Funcion para rellenar los valores nulos de los metros cuadrados en base a el precio por metro cuadrado'''\n",
    "    try:\n",
    "        df.drop(columns=['metros_cuadrados'], axis= 1, inplace=True)\n",
    "        df['metros_cuadrados'] = (df['precio_compra'] / df['precio_compra_por_area']).round()\n",
    "    except Exception as a:\n",
    "        print(f\"No pude tranformar el dataframe\")\n",
    "    return df\n",
    "    "
   ]
  },
  {
   "cell_type": "code",
   "execution_count": null,
   "metadata": {},
   "outputs": [],
   "source": [
    "df = sacar_metros_cuadrados_nuevos(df)"
   ]
  },
  {
   "cell_type": "code",
   "execution_count": null,
   "metadata": {},
   "outputs": [],
   "source": [
    "def rellenar_exterior(df):\n",
    "    '''Funcion que rellena los valores nulos en la columna exterior en base a el piso en el que se encuentra'''\n",
    "    try:\n",
    "        exteriores = ('Entreplanta exterior', 'Semi-sótano exterior', 'Sótano exterior')\n",
    "\n",
    "        df['exterior'] = df['piso'].apply(lambda x: True if x in exteriores else False)\n",
    "\n",
    "    except Exception as a:\n",
    "        print(f\"No puse tranformar el df por {a}\")\n",
    "    \n",
    "    return df"
   ]
  },
  {
   "cell_type": "code",
   "execution_count": null,
   "metadata": {},
   "outputs": [],
   "source": [
    "df = rellenar_exterior(df)"
   ]
  },
  {
   "cell_type": "code",
   "execution_count": null,
   "metadata": {},
   "outputs": [],
   "source": [
    "def rellenar_tipo_inmueble(df):\n",
    "    '''Funcion que rellena los valores nulos en la columna tipo_inmueble, los unico no completos son los estudios'''\n",
    "    try:\n",
    "        df['tipo_inmueble'].fillna(value ='HouseType 1: Pisos', inplace=True)\n",
    "\n",
    "    except Exception as a:\n",
    "        print(f\"No puse tranformar el df por {a}\")\n",
    "    \n",
    "    return df"
   ]
  },
  {
   "cell_type": "code",
   "execution_count": null,
   "metadata": {},
   "outputs": [],
   "source": [
    "df = rellenar_tipo_inmueble(df)"
   ]
  },
  {
   "cell_type": "code",
   "execution_count": null,
   "metadata": {},
   "outputs": [],
   "source": [
    "def rellenar_bannos_nulos(df):\n",
    "    '''Funcion para rellenar los valores nulos de los bannos, con la media segun los metros cuadrados'''\n",
    "    try:\n",
    "        dicc_bannos = df[df['bannos'].notna()].groupby(['metros_cuadrados'], as_index=False)[['bannos']].mean().round().to_dict('records')\n",
    "        dicc_bannos.append({'metros_cuadrados': 661, 'bannos': 5})\n",
    "\n",
    "        df_banno_mas_comun = pd.DataFrame(dicc_bannos)\n",
    "\n",
    "        df_unido_bannos = pd.merge(df,df_banno_mas_comun, on='metros_cuadrados', how= 'inner')\n",
    "\n",
    "        df_unido_bannos['bannos'] = df_unido_bannos.apply(lambda x: x.bannos_y if pd.isna(x.bannos_x) else x.bannos_x, axis = 1)\n",
    "\n",
    "        df = df_unido_bannos.drop(columns=['bannos_x', 'bannos_y'], axis = 1)\n",
    "    except Exception as a:\n",
    "        print(f\"No pude transformar el df por {a}\")\n",
    "    return df"
   ]
  },
  {
   "cell_type": "code",
   "execution_count": null,
   "metadata": {},
   "outputs": [],
   "source": [
    "df = rellenar_bannos_nulos(df)"
   ]
  },
  {
   "cell_type": "code",
   "execution_count": 162,
   "metadata": {},
   "outputs": [
    {
     "name": "stdout",
     "output_type": "stream",
     "text": [
      "La cardinalidad de la variable precio_compra es 11.05 %\n",
      "La cardinalidad de la variable precio_compra_por_area es 25.95 %\n",
      "La cardinalidad de la variable cee es 0.05 %\n",
      "La cardinalidad de la variable balcon es 0.01 %\n",
      "La cardinalidad de la variable armarios_empotrados es 0.01 %\n",
      "La cardinalidad de la variable jardin es 0.01 %\n",
      "La cardinalidad de la variable zonas_verdes es 0.01 %\n",
      "La cardinalidad de la variable estacionamiento es 0.01 %\n",
      "La cardinalidad de la variable pileta es 0.01 %\n",
      "La cardinalidad de la variable trastero es 0.01 %\n",
      "La cardinalidad de la variable terraza es 0.01 %\n",
      "La cardinalidad de la variable tipo_inmueble es 0.02 %\n",
      "La cardinalidad de la variable id es 100.00 %\n",
      "La cardinalidad de la variable accesible es 0.01 %\n",
      "La cardinalidad de la variable exterior es 0.01 %\n",
      "La cardinalidad de la variable bajo es 0.01 %\n",
      "La cardinalidad de la variable necesita_reforma es 0.01 %\n",
      "La cardinalidad de la variable habitaciones es 0.09 %\n",
      "La cardinalidad de la variable ubicacion es 0.67 %\n",
      "La cardinalidad de la variable annio_construccion es 0.71 %\n",
      "La cardinalidad de la variable piso es 0.09 %\n",
      "La cardinalidad de la variable metros_cuadrados es 3.36 %\n",
      "La cardinalidad de la variable bannos es 0.07 %\n"
     ]
    }
   ],
   "source": [
    "for i in df:\n",
    "    print(f\"La cardinalidad de la variable {i} es {(df[i].nunique()/df.shape[0])*100:.2f} %\")"
   ]
  },
  {
   "cell_type": "code",
   "execution_count": null,
   "metadata": {},
   "outputs": [],
   "source": [
    "df.info()"
   ]
  },
  {
   "cell_type": "code",
   "execution_count": null,
   "metadata": {},
   "outputs": [],
   "source": [
    "df_correlacion = df.select_dtypes(include= 'number').corr()"
   ]
  },
  {
   "cell_type": "code",
   "execution_count": null,
   "metadata": {},
   "outputs": [],
   "source": [
    "df_correlacion"
   ]
  },
  {
   "cell_type": "code",
   "execution_count": null,
   "metadata": {},
   "outputs": [],
   "source": [
    "from scipy.stats import kurtosis, skew\n",
    "\n",
    "media = df['precio_compra_por_area'].mean()\n",
    "median = df['precio_compra_por_area'].median()\n",
    "variance = df['precio_compra_por_area'].var()\n",
    "desv_std = df['precio_compra_por_area'].std()  \n",
    "kurtosis_valor = kurtosis(df['precio_compra_por_area'])\n",
    "simetria_valor = skew(df['precio_compra_por_area'])\n",
    "\n",
    "sns.kdeplot(data=df, x='precio_compra_por_area',fill=True,color='green',)\n",
    "# Agregar líneas verticales para las estadísticas\n",
    "plt.axvline(media, color='red', linestyle='dashed', label=f'Media: {media:.2f}')\n",
    "plt.axvline(median, color='blue', linestyle='dashed', label=f'Median: {median:.2f}')\n",
    "plt.axvline(desv_std, color='brown', linestyle='dashed', label=f'Desv_std: {desv_std:.2f}')\n",
    "\n",
    "plt.title('Distribución del precio por area')\n",
    "# plt.xlabel('Popularidad')\n",
    "# plt.ylabel('Densidad')\n",
    "\n",
    "plt.legend()\n",
    "\n",
    "plt.show()\n",
    "# Interpretación de los valores\n",
    "\n",
    "print(f\"kurtosis: {kurtosis_valor:.2f}\")\n",
    "print(f\"simetria: {simetria_valor:.2f}\")\n",
    "\n",
    "if kurtosis_valor > 0:\n",
    "    print(\"La distribución es leptocúrtica, lo que sugiere colas pesadas y picos agudos.\")\n",
    "elif kurtosis_valor < 0:\n",
    "    print(\"La distribución es platicúrtica, lo que sugiere colas ligeras y un pico achatado.\")\n",
    "else:\n",
    "    print(\"La distribución es mesocúrtica, similar a una distribución normal.\")\n",
    "\n",
    "if simetria_valor < 0:\n",
    "    print(\"La distribución es asimétrica positiva (sesgo hacia la derecha).\")\n",
    "elif simetria_valor > 0:\n",
    "    print(\"La distribución es asimétrica negativa (sesgo hacia la izquierda).\")\n",
    "else:\n",
    "    print(\"La distribución es perfectamente simétrica alrededor de su media.\")"
   ]
  },
  {
   "cell_type": "code",
   "execution_count": null,
   "metadata": {},
   "outputs": [],
   "source": [
    "asim = stats.skew(df['precio_compra_por_area'])\n",
    "\n",
    "print(\"Asim precio_compra:\", asim)"
   ]
  },
  {
   "cell_type": "code",
   "execution_count": null,
   "metadata": {},
   "outputs": [],
   "source": [
    "kurtosis = stats.kurtosis(df['precio_compra_por_area'])\n",
    "kurtosis"
   ]
  },
  {
   "cell_type": "code",
   "execution_count": null,
   "metadata": {},
   "outputs": [],
   "source": [
    "df_cuant_nuevo = df.select_dtypes(include='number')\n",
    "graficos_variables_cuant(df_cuant_nuevo)"
   ]
  },
  {
   "cell_type": "code",
   "execution_count": null,
   "metadata": {},
   "outputs": [],
   "source": []
  }
 ],
 "metadata": {
  "kernelspec": {
   "display_name": "Python 3",
   "language": "python",
   "name": "python3"
  },
  "language_info": {
   "codemirror_mode": {
    "name": "ipython",
    "version": 3
   },
   "file_extension": ".py",
   "mimetype": "text/x-python",
   "name": "python",
   "nbconvert_exporter": "python",
   "pygments_lexer": "ipython3",
   "version": "3.10.9"
  }
 },
 "nbformat": 4,
 "nbformat_minor": 2
}
