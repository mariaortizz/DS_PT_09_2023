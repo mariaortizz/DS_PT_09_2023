{
 "cells": [
  {
   "cell_type": "markdown",
   "metadata": {},
   "source": [
    "## Reto 1: Hundir la Flota (Batalla Naval)\n",
    "### Objetivo: Implementar una versión simplificada del juego de Batalla Naval usando Python y Numpy para manejar el tablero del juego.\n",
    "\n",
    "- Crear un tablero 10x10 usando Numpy arrays.\n",
    "- Colocar 5 barcos de diferentes tamaños en posiciones aleatorias en el tablero.\n",
    "- Permitir que el jugador ingrese coordenadas para \"disparar\".\n",
    "- Mostrar un mensaje si el jugador acierta o falla, y actualizar el tablero acorde.\n",
    "- Seguir jugando hasta que todos los barcos sean hundidos.\n",
    "#### Habilidades aplicadas: Uso de arrays de Numpy, generación de números aleatorios, estructuras de control en Python.\n",
    "\n",
    "## Reto 2: Tres en Raya (Tic-Tac-Toe)\n",
    "### Objetivo: Implementar el juego de Tres en Raya.\n",
    "\n",
    "- Crear un tablero 3x3 usando Numpy arrays.\n",
    "- Permitir a dos jugadores ingresar sus movimientos alternadamente.\n",
    "- Verificar después de cada movimiento si alguno de los jugadores ha ganado.\n",
    "- Mostrar el tablero después de cada turno.\n",
    "- Terminar el juego si hay un ganador o si el tablero está lleno.\n",
    "#### Habilidades aplicadas: Manipulación de arrays, estructuras de control, funciones en Python.\n",
    "\n",
    "## Reto 3: Torres de Hanoi\n",
    "### Objetivo: Implementar el juego de las Torres de Hanoi usando Python.\n",
    "\n",
    "- Crear tres pilas para representar los tres postes del juego.\n",
    "- Implementar la lógica para mover un disco de un poste a otro, siguiendo las reglas del juego.\n",
    "- Desarrollar una función recursiva para resolver el juego.\n",
    "- Permitir al usuario elegir el número de discos con los que jugará.\n",
    "#### Habilidades aplicadas: Recursividad, estructuras de datos (pilas), funciones en Python."
   ]
  },
  {
   "cell_type": "markdown",
   "metadata": {},
   "source": [
    "``Deberas hacer por lo menos uno de los tres para de la fecha de entrega, pero antes de terminar el modulo de analisis de datos tendras que entregar todos..``"
   ]
  },
  {
   "cell_type": "markdown",
   "metadata": {},
   "source": [
    "como se cual debo hacer muy simple introduce tu fecha de cumpleaños en la siguiente funcion"
   ]
  },
  {
   "cell_type": "code",
   "execution_count": 3,
   "metadata": {},
   "outputs": [],
   "source": [
    "def cual_es_mi_reto(fecha: str) -> str:\n",
    "    \"\"\"\n",
    "    Args:\n",
    "    ------\n",
    "    fecha: str el formato de la fecha es DD-MM-YYYY\n",
    "    Returns:\n",
    "    -------\n",
    "    str: el numero del reto\n",
    "    \"\"\"\n",
    "    try:\n",
    "        return int(fecha.split('-')[0]) % 3\n",
    "    except:\n",
    "        return 'La fecha tiene que ser en este formato DD-MM-YYYY'"
   ]
  },
  {
   "cell_type": "code",
   "execution_count": 4,
   "metadata": {},
   "outputs": [
    {
     "data": {
      "text/plain": [
       "2"
      ]
     },
     "execution_count": 4,
     "metadata": {},
     "output_type": "execute_result"
    }
   ],
   "source": [
    "cual_es_mi_reto(fecha='08-04-1989')"
   ]
  },
  {
   "cell_type": "code",
   "execution_count": 104,
   "metadata": {},
   "outputs": [
    {
     "name": "stdout",
     "output_type": "stream",
     "text": [
      "Mueve el disco 1 de 1 a 3\n",
      "Mueves el disco 2 de 1 a 2\n",
      "Mueve el disco 1 de 3 a 2\n",
      "Mueves el disco 3 de 1 a 3\n",
      "Mueve el disco 1 de 2 a 1\n",
      "Mueves el disco 2 de 2 a 3\n",
      "Mueve el disco 1 de 1 a 3\n"
     ]
    }
   ],
   "source": [
    "def hanoi(n, origen, auxiliar, destino):\n",
    "    if n == 1:\n",
    "        print(f\"Mueve el disco 1 de {origen} a {destino}\")\n",
    "    else:\n",
    "        hanoi(n-1, origen, destino, auxiliar)\n",
    "        print(f\"Mueves el disco {n} de {origen} a {destino}\")\n",
    "        hanoi(n-1, auxiliar, origen, destino) \n",
    "hanoi(3,1,2,3)"
   ]
  },
  {
   "cell_type": "code",
   "execution_count": 136,
   "metadata": {},
   "outputs": [
    {
     "name": "stdout",
     "output_type": "stream",
     "text": [
      "[[' ', ' ', ' ', ' ', ' ', '|', ' ', ' ', ' ', ' ', ' '], [' ', ' ', ' ', '=', '=', '=', '=', '=', ' ', ' ', ' '], [' ', ' ', '=', '=', '=', '=', '=', '=', '=', ' ', ' '], [' ', '=', '=', '=', '=', '=', '=', '=', '=', '=', ' '], ['=', '=', '=', '=', '=', '=', '=', '=', '=', '=', '=']]\n"
     ]
    },
    {
     "data": {
      "text/plain": [
       "[' ', ' ', ' ', '=', '=', '=', '=', '=', ' ', ' ', ' ']"
      ]
     },
     "execution_count": 136,
     "metadata": {},
     "output_type": "execute_result"
    }
   ],
   "source": [
    "n = 4\n",
    "def crear_torre(n):\n",
    "    torre = [[]]\n",
    "    copia_n = n\n",
    "    for i in range(2*n+3):\n",
    "        if i == (2*n+3)//2:\n",
    "            torre[0].append('|')\n",
    "        else:\n",
    "            torre[0].append(' ')\n",
    "\n",
    "    for i in range (1,n+1):\n",
    "        torre.append([])\n",
    "        for j in range(2*n+3):\n",
    "            if j < copia_n-1 or j>(2*i+copia_n+1):\n",
    "                torre[i].append(' ')\n",
    "            else:\n",
    "                torre[i].append('=')\n",
    "        copia_n = copia_n - 1\n",
    "    return torre\n",
    "\n",
    "def crear_torres(n):\n",
    "    lista_torres = [[],[],[]]\n",
    "\n",
    "    for i in range(n,-1,-1):\n",
    "        lista_torres[0] = crear_torre(n)\n",
    "        lista_torres[1] = crear_torre(0)\n",
    "        lista_torres[2] = crear_torre(0)\n",
    "    return lista_torres\n",
    "\n",
    "lista_torres = crear_torres(n)\n",
    "# for t in lista_torres:\n",
    "#     for i in t:\n",
    "#         print(i)\n",
    "\n",
    "prueba = lista_torres[0]\n",
    "print(prueba)\n",
    "prueba[n-n+1]\n",
    "\n"
   ]
  },
  {
   "cell_type": "code",
   "execution_count": 65,
   "metadata": {},
   "outputs": [],
   "source": [
    "inicio = 0\n",
    "elementos = []\n",
    "def agregar_disco(x, destino):\n",
    "    destino.insert(inicio, x)\n",
    "    inicio = inicio + 1\n",
    "def quitar_discos(origen):\n",
    "    inicio = origen[n-n+1] - 1\n",
    "    elementos_1 = elementos[inicio]\n",
    "    elementos[inicio] = 0\n",
    "    return elementos_1\n"
   ]
  },
  {
   "cell_type": "code",
   "execution_count": 108,
   "metadata": {},
   "outputs": [],
   "source": [
    "def mover_discos(origen,destino):\n",
    "    valor = lista_torres[origen]\n",
    "    quitar_discos()"
   ]
  },
  {
   "cell_type": "code",
   "execution_count": 116,
   "metadata": {},
   "outputs": [
    {
     "name": "stdout",
     "output_type": "stream",
     "text": [
      "[' ', ' ', '=', '=', '=', '=', '=', ' ', ' ']\n"
     ]
    }
   ],
   "source": [
    "print(lista_torres[0][0+1])"
   ]
  }
 ],
 "metadata": {
  "kernelspec": {
   "display_name": "este",
   "language": "python",
   "name": "python3"
  },
  "language_info": {
   "codemirror_mode": {
    "name": "ipython",
    "version": 3
   },
   "file_extension": ".py",
   "mimetype": "text/x-python",
   "name": "python",
   "nbconvert_exporter": "python",
   "pygments_lexer": "ipython3",
   "version": "3.10.9"
  }
 },
 "nbformat": 4,
 "nbformat_minor": 2
}
