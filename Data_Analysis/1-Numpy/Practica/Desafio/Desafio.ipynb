{
 "cells": [
  {
   "cell_type": "markdown",
   "metadata": {},
   "source": [
    "## Reto 1: Hundir la Flota (Batalla Naval)\n",
    "### Objetivo: Implementar una versión simplificada del juego de Batalla Naval usando Python y Numpy para manejar el tablero del juego.\n",
    "\n",
    "- Crear un tablero 10x10 usando Numpy arrays.\n",
    "- Colocar 5 barcos de diferentes tamaños en posiciones aleatorias en el tablero.\n",
    "- Permitir que el jugador ingrese coordenadas para \"disparar\".\n",
    "- Mostrar un mensaje si el jugador acierta o falla, y actualizar el tablero acorde.\n",
    "- Seguir jugando hasta que todos los barcos sean hundidos.\n",
    "#### Habilidades aplicadas: Uso de arrays de Numpy, generación de números aleatorios, estructuras de control en Python.\n",
    "\n",
    "## Reto 2: Tres en Raya (Tic-Tac-Toe)\n",
    "### Objetivo: Implementar el juego de Tres en Raya.\n",
    "\n",
    "- Crear un tablero 3x3 usando Numpy arrays.\n",
    "- Permitir a dos jugadores ingresar sus movimientos alternadamente.\n",
    "- Verificar después de cada movimiento si alguno de los jugadores ha ganado.\n",
    "- Mostrar el tablero después de cada turno.\n",
    "- Terminar el juego si hay un ganador o si el tablero está lleno.\n",
    "#### Habilidades aplicadas: Manipulación de arrays, estructuras de control, funciones en Python.\n",
    "\n",
    "## Reto 3: Torres de Hanoi\n",
    "### Objetivo: Implementar el juego de las Torres de Hanoi usando Python.\n",
    "\n",
    "- Crear tres pilas para representar los tres postes del juego.\n",
    "- Implementar la lógica para mover un disco de un poste a otro, siguiendo las reglas del juego.\n",
    "- Desarrollar una función recursiva para resolver el juego.\n",
    "- Permitir al usuario elegir el número de discos con los que jugará.\n",
    "#### Habilidades aplicadas: Recursividad, estructuras de datos (pilas), funciones en Python."
   ]
  },
  {
   "cell_type": "markdown",
   "metadata": {},
   "source": [
    "``Deberas hacer por lo menos uno de los tres para de la fecha de entrega, pero antes de terminar el modulo de analisis de datos tendras que entregar todos..``"
   ]
  },
  {
   "cell_type": "markdown",
   "metadata": {},
   "source": [
    "como se cual debo hacer muy simple introduce tu fecha de cumpleaños en la siguiente funcion"
   ]
  },
  {
   "cell_type": "code",
   "execution_count": 3,
   "metadata": {},
   "outputs": [],
   "source": [
    "def cual_es_mi_reto(fecha: str) -> str:\n",
    "    \"\"\"\n",
    "    Args:\n",
    "    ------\n",
    "    fecha: str el formato de la fecha es DD-MM-YYYY\n",
    "    Returns:\n",
    "    -------\n",
    "    str: el numero del reto\n",
    "    \"\"\"\n",
    "    try:\n",
    "        return int(fecha.split('-')[0]) % 3\n",
    "    except:\n",
    "        return 'La fecha tiene que ser en este formato DD-MM-YYYY'"
   ]
  },
  {
   "cell_type": "code",
   "execution_count": 4,
   "metadata": {},
   "outputs": [
    {
     "data": {
      "text/plain": [
       "2"
      ]
     },
     "execution_count": 4,
     "metadata": {},
     "output_type": "execute_result"
    }
   ],
   "source": [
    "cual_es_mi_reto(fecha='08-04-1989')"
   ]
  },
  {
   "cell_type": "code",
   "execution_count": 28,
   "metadata": {},
   "outputs": [
    {
     "name": "stdout",
     "output_type": "stream",
     "text": [
      "[[1, 2, 3], [], []]\n",
      "[[], [], [1, 2, 3]]\n"
     ]
    }
   ],
   "source": [
    "def jugar_hanoi_1(n:int):\n",
    "    '''Función que realiza el juego de las torres Hanoi\n",
    "    creando las torres, la primera con la cantidad de discos que ingresa el usuario\n",
    "    \n",
    "    Input : interger\n",
    "\n",
    "    '''\n",
    "    def crear_torres_(n:int) -> list:\n",
    "        '''\n",
    "        Función que crea las pilas de datos en donde se vana  mover los discos, \n",
    "        cada lista representa una torre\n",
    "\n",
    "        Input : interger\n",
    "        Output : list \n",
    "\n",
    "        '''\n",
    "        lista_torres = [[],[],[]]\n",
    "        for num in range(3):\n",
    "            if num == 0:\n",
    "                for i in range(1,n+1):\n",
    "                    lista_torres[0].append(i)\n",
    "        return lista_torres\n",
    "\n",
    "    lista_torres = crear_torres_(n)\n",
    "    print(lista_torres)\n",
    "\n",
    "    def mover_discos(origen: list,destino:list):\n",
    "        ''''\n",
    "        Función para mover los discos dentro de las torres\n",
    "\n",
    "        Input : list\n",
    "        \n",
    "        '''\n",
    "        x = origen[0]\n",
    "        del origen[0]\n",
    "        destino.insert(0,x)\n",
    "\n",
    "    def hanoi(n:int, origen=lista_torres[0], auxiliar=lista_torres[1], destino=lista_torres[2]):\n",
    "        '''\n",
    "        Funcion recursiva para poder saber que discos vamos a mover y hacia donde\n",
    "        \n",
    "        Input : interger\n",
    "        \n",
    "        '''\n",
    "        if n == 1:\n",
    "            mover_discos(origen,destino)\n",
    "        else:\n",
    "            hanoi(n-1, origen, destino, auxiliar)\n",
    "            mover_discos(origen,destino)\n",
    "            hanoi(n-1, auxiliar, origen, destino) \n",
    "\n",
    "    hanoi(n)\n",
    "    \n",
    "    print(lista_torres)\n",
    "\n",
    "n = int(input(\"Ingresar número de discos para jugar: \"))\n",
    "jugar_hanoi_1(n)\n"
   ]
  }
 ],
 "metadata": {
  "kernelspec": {
   "display_name": "este",
   "language": "python",
   "name": "python3"
  },
  "language_info": {
   "codemirror_mode": {
    "name": "ipython",
    "version": 3
   },
   "file_extension": ".py",
   "mimetype": "text/x-python",
   "name": "python",
   "nbconvert_exporter": "python",
   "pygments_lexer": "ipython3",
   "version": "3.10.9"
  }
 },
 "nbformat": 4,
 "nbformat_minor": 2
}
